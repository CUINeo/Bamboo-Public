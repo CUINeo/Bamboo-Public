{
 "cells": [
  {
   "cell_type": "code",
   "execution_count": 1,
   "metadata": {},
   "outputs": [],
   "source": [
    "from sklearn import linear_model"
   ]
  },
  {
   "cell_type": "code",
   "execution_count": 2,
   "metadata": {},
   "outputs": [],
   "source": [
    "reg = linear_model.LinearRegression()"
   ]
  },
  {
   "cell_type": "code",
   "execution_count": 15,
   "metadata": {},
   "outputs": [],
   "source": [
    "import pandas as pd\n",
    "import numpy as np"
   ]
  },
  {
   "cell_type": "code",
   "execution_count": 30,
   "metadata": {},
   "outputs": [],
   "source": [
    "df = pd.read_csv(\"ycsb/stats.csv\")"
   ]
  },
  {
   "cell_type": "code",
   "execution_count": 31,
   "metadata": {},
   "outputs": [],
   "source": [
    "clv = df[df['CC_ALG'] == 'CLV']"
   ]
  },
  {
   "cell_type": "code",
   "execution_count": 32,
   "metadata": {},
   "outputs": [
    {
     "data": {
      "text/html": [
       "<div>\n",
       "<style scoped>\n",
       "    .dataframe tbody tr th:only-of-type {\n",
       "        vertical-align: middle;\n",
       "    }\n",
       "\n",
       "    .dataframe tbody tr th {\n",
       "        vertical-align: top;\n",
       "    }\n",
       "\n",
       "    .dataframe thead th {\n",
       "        text-align: right;\n",
       "    }\n",
       "</style>\n",
       "<table border=\"1\" class=\"dataframe\">\n",
       "  <thead>\n",
       "    <tr style=\"text-align: right;\">\n",
       "      <th></th>\n",
       "      <th>cycle_detect</th>\n",
       "      <th>debug1</th>\n",
       "      <th>debug3</th>\n",
       "      <th>debug2</th>\n",
       "      <th>debug5</th>\n",
       "      <th>debug4</th>\n",
       "      <th>time_abort</th>\n",
       "      <th>MAX_TXN_PER_PART</th>\n",
       "      <th>deadlock_cnt</th>\n",
       "      <th>dl_wait_time</th>\n",
       "      <th>...</th>\n",
       "      <th>time_man</th>\n",
       "      <th>dl_detect_time</th>\n",
       "      <th>time_wait</th>\n",
       "      <th>THREAD_CNT</th>\n",
       "      <th>run_time</th>\n",
       "      <th>time_query</th>\n",
       "      <th>abort_cnt</th>\n",
       "      <th>throughput</th>\n",
       "      <th>SYNTHETIC_YCSB</th>\n",
       "      <th>time_ts_alloc</th>\n",
       "    </tr>\n",
       "  </thead>\n",
       "  <tbody>\n",
       "    <tr>\n",
       "      <th>0</th>\n",
       "      <td>0</td>\n",
       "      <td>0.0</td>\n",
       "      <td>0.0</td>\n",
       "      <td>0.0</td>\n",
       "      <td>0.0</td>\n",
       "      <td>0.0</td>\n",
       "      <td>0.000000</td>\n",
       "      <td>100000</td>\n",
       "      <td>0</td>\n",
       "      <td>0.0</td>\n",
       "      <td>...</td>\n",
       "      <td>0.963275</td>\n",
       "      <td>0.0</td>\n",
       "      <td>0.000000</td>\n",
       "      <td>1</td>\n",
       "      <td>1.718134</td>\n",
       "      <td>0.001945</td>\n",
       "      <td>0</td>\n",
       "      <td>58202.666978</td>\n",
       "      <td>True</td>\n",
       "      <td>0.0</td>\n",
       "    </tr>\n",
       "    <tr>\n",
       "      <th>1</th>\n",
       "      <td>0</td>\n",
       "      <td>0.0</td>\n",
       "      <td>0.0</td>\n",
       "      <td>0.0</td>\n",
       "      <td>0.0</td>\n",
       "      <td>0.0</td>\n",
       "      <td>0.000077</td>\n",
       "      <td>100000</td>\n",
       "      <td>0</td>\n",
       "      <td>0.0</td>\n",
       "      <td>...</td>\n",
       "      <td>8.066944</td>\n",
       "      <td>0.0</td>\n",
       "      <td>0.000724</td>\n",
       "      <td>2</td>\n",
       "      <td>11.882167</td>\n",
       "      <td>0.004280</td>\n",
       "      <td>12</td>\n",
       "      <td>33588.486588</td>\n",
       "      <td>True</td>\n",
       "      <td>0.0</td>\n",
       "    </tr>\n",
       "    <tr>\n",
       "      <th>2</th>\n",
       "      <td>0</td>\n",
       "      <td>0.0</td>\n",
       "      <td>0.0</td>\n",
       "      <td>0.0</td>\n",
       "      <td>0.0</td>\n",
       "      <td>0.0</td>\n",
       "      <td>0.000882</td>\n",
       "      <td>100000</td>\n",
       "      <td>0</td>\n",
       "      <td>0.0</td>\n",
       "      <td>...</td>\n",
       "      <td>14.244147</td>\n",
       "      <td>0.0</td>\n",
       "      <td>0.076424</td>\n",
       "      <td>4</td>\n",
       "      <td>20.943015</td>\n",
       "      <td>0.013926</td>\n",
       "      <td>32</td>\n",
       "      <td>76319.668629</td>\n",
       "      <td>True</td>\n",
       "      <td>0.0</td>\n",
       "    </tr>\n",
       "    <tr>\n",
       "      <th>3</th>\n",
       "      <td>0</td>\n",
       "      <td>0.0</td>\n",
       "      <td>0.0</td>\n",
       "      <td>0.0</td>\n",
       "      <td>0.0</td>\n",
       "      <td>0.0</td>\n",
       "      <td>0.012619</td>\n",
       "      <td>100000</td>\n",
       "      <td>0</td>\n",
       "      <td>0.0</td>\n",
       "      <td>...</td>\n",
       "      <td>33.067050</td>\n",
       "      <td>0.0</td>\n",
       "      <td>1.631968</td>\n",
       "      <td>8</td>\n",
       "      <td>47.779654</td>\n",
       "      <td>0.025261</td>\n",
       "      <td>521</td>\n",
       "      <td>133046.086301</td>\n",
       "      <td>True</td>\n",
       "      <td>0.0</td>\n",
       "    </tr>\n",
       "    <tr>\n",
       "      <th>4</th>\n",
       "      <td>0</td>\n",
       "      <td>0.0</td>\n",
       "      <td>0.0</td>\n",
       "      <td>0.0</td>\n",
       "      <td>0.0</td>\n",
       "      <td>0.0</td>\n",
       "      <td>0.011731</td>\n",
       "      <td>100000</td>\n",
       "      <td>0</td>\n",
       "      <td>0.0</td>\n",
       "      <td>...</td>\n",
       "      <td>129.829197</td>\n",
       "      <td>0.0</td>\n",
       "      <td>11.263008</td>\n",
       "      <td>16</td>\n",
       "      <td>167.325128</td>\n",
       "      <td>0.054640</td>\n",
       "      <td>211</td>\n",
       "      <td>151903.831537</td>\n",
       "      <td>True</td>\n",
       "      <td>0.0</td>\n",
       "    </tr>\n",
       "  </tbody>\n",
       "</table>\n",
       "<p>5 rows × 29 columns</p>\n",
       "</div>"
      ],
      "text/plain": [
       "   cycle_detect  debug1  debug3  debug2  debug5  debug4  time_abort  \\\n",
       "0             0     0.0     0.0     0.0     0.0     0.0    0.000000   \n",
       "1             0     0.0     0.0     0.0     0.0     0.0    0.000077   \n",
       "2             0     0.0     0.0     0.0     0.0     0.0    0.000882   \n",
       "3             0     0.0     0.0     0.0     0.0     0.0    0.012619   \n",
       "4             0     0.0     0.0     0.0     0.0     0.0    0.011731   \n",
       "\n",
       "   MAX_TXN_PER_PART  deadlock_cnt  dl_wait_time  ...    time_man  \\\n",
       "0            100000             0           0.0  ...    0.963275   \n",
       "1            100000             0           0.0  ...    8.066944   \n",
       "2            100000             0           0.0  ...   14.244147   \n",
       "3            100000             0           0.0  ...   33.067050   \n",
       "4            100000             0           0.0  ...  129.829197   \n",
       "\n",
       "   dl_detect_time  time_wait THREAD_CNT    run_time  time_query abort_cnt  \\\n",
       "0             0.0   0.000000          1    1.718134    0.001945         0   \n",
       "1             0.0   0.000724          2   11.882167    0.004280        12   \n",
       "2             0.0   0.076424          4   20.943015    0.013926        32   \n",
       "3             0.0   1.631968          8   47.779654    0.025261       521   \n",
       "4             0.0  11.263008         16  167.325128    0.054640       211   \n",
       "\n",
       "      throughput  SYNTHETIC_YCSB  time_ts_alloc  \n",
       "0   58202.666978            True            0.0  \n",
       "1   33588.486588            True            0.0  \n",
       "2   76319.668629            True            0.0  \n",
       "3  133046.086301            True            0.0  \n",
       "4  151903.831537            True            0.0  \n",
       "\n",
       "[5 rows x 29 columns]"
      ]
     },
     "execution_count": 32,
     "metadata": {},
     "output_type": "execute_result"
    }
   ],
   "source": [
    "clv.head()"
   ]
  },
  {
   "cell_type": "code",
   "execution_count": 33,
   "metadata": {},
   "outputs": [],
   "source": [
    "y = clv['throughput'].values"
   ]
  },
  {
   "cell_type": "code",
   "execution_count": 34,
   "metadata": {},
   "outputs": [
    {
     "name": "stderr",
     "output_type": "stream",
     "text": [
      "/Users/scarlet/anaconda3/lib/python3.7/site-packages/ipykernel_launcher.py:1: SettingWithCopyWarning: \n",
      "A value is trying to be set on a copy of a slice from a DataFrame.\n",
      "Try using .loc[row_indexer,col_indexer] = value instead\n",
      "\n",
      "See the caveats in the documentation: http://pandas.pydata.org/pandas-docs/stable/indexing.html#indexing-view-versus-copy\n",
      "  \"\"\"Entry point for launching an IPython kernel.\n"
     ]
    }
   ],
   "source": [
    "clv['abort_rate'] = [a / (t*m) for a, t, m in zip(clv['abort_cnt'], clv['THREAD_CNT'], clv['MAX_TXN_PER_PART'])]"
   ]
  },
  {
   "cell_type": "code",
   "execution_count": 35,
   "metadata": {},
   "outputs": [],
   "source": [
    "X = clv.loc[:,['time_wait', 'abort_rate']].values"
   ]
  },
  {
   "cell_type": "code",
   "execution_count": 36,
   "metadata": {},
   "outputs": [
    {
     "data": {
      "text/plain": [
       "LinearRegression(copy_X=True, fit_intercept=True, n_jobs=None, normalize=False)"
      ]
     },
     "execution_count": 36,
     "metadata": {},
     "output_type": "execute_result"
    }
   ],
   "source": [
    "reg.fit(X,y)"
   ]
  },
  {
   "cell_type": "code",
   "execution_count": 37,
   "metadata": {},
   "outputs": [
    {
     "data": {
      "text/plain": [
       "array([1.49307936e+03, 1.14980429e+08])"
      ]
     },
     "execution_count": 37,
     "metadata": {},
     "output_type": "execute_result"
    }
   ],
   "source": [
    "reg.coef_"
   ]
  },
  {
   "cell_type": "code",
   "execution_count": null,
   "metadata": {},
   "outputs": [],
   "source": []
  }
 ],
 "metadata": {
  "kernelspec": {
   "display_name": "Python 3",
   "language": "python",
   "name": "python3"
  },
  "language_info": {
   "codemirror_mode": {
    "name": "ipython",
    "version": 3
   },
   "file_extension": ".py",
   "mimetype": "text/x-python",
   "name": "python",
   "nbconvert_exporter": "python",
   "pygments_lexer": "ipython3",
   "version": "3.7.3"
  }
 },
 "nbformat": 4,
 "nbformat_minor": 2
}
