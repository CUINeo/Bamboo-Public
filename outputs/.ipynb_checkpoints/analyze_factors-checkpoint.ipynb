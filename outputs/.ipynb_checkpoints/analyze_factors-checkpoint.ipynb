{
 "cells": [
  {
   "cell_type": "code",
   "execution_count": 1,
   "metadata": {},
   "outputs": [],
   "source": [
    "from sklearn import linear_model"
   ]
  },
  {
   "cell_type": "code",
   "execution_count": 2,
   "metadata": {},
   "outputs": [],
   "source": [
    "reg = linear_model.LinearRegression()"
   ]
  },
  {
   "cell_type": "code",
   "execution_count": 3,
   "metadata": {},
   "outputs": [],
   "source": [
    "import pandas as pd"
   ]
  },
  {
   "cell_type": "code",
   "execution_count": 5,
   "metadata": {},
   "outputs": [],
   "source": [
    "df = pd.read_csv(\"stats.csv\")"
   ]
  },
  {
   "cell_type": "code",
   "execution_count": 6,
   "metadata": {},
   "outputs": [],
   "source": [
    "clv = df[df['CC_ALG'] == 'CLV']"
   ]
  },
  {
   "cell_type": "code",
   "execution_count": 9,
   "metadata": {},
   "outputs": [
    {
     "data": {
      "text/html": [
       "<div>\n",
       "<style scoped>\n",
       "    .dataframe tbody tr th:only-of-type {\n",
       "        vertical-align: middle;\n",
       "    }\n",
       "\n",
       "    .dataframe tbody tr th {\n",
       "        vertical-align: top;\n",
       "    }\n",
       "\n",
       "    .dataframe thead th {\n",
       "        text-align: right;\n",
       "    }\n",
       "</style>\n",
       "<table border=\"1\" class=\"dataframe\">\n",
       "  <thead>\n",
       "    <tr style=\"text-align: right;\">\n",
       "      <th></th>\n",
       "      <th>ABORT_PENALTY</th>\n",
       "      <th>CC_ALG</th>\n",
       "      <th>MAX_TXN_PER_PART</th>\n",
       "      <th>NUM_WH</th>\n",
       "      <th>SYNTHETIC_YCSB</th>\n",
       "      <th>THREAD_CNT</th>\n",
       "      <th>WORKLOAD</th>\n",
       "      <th>ZIPF_THETA</th>\n",
       "      <th>abort_cnt</th>\n",
       "      <th>cycle_detect</th>\n",
       "      <th>...</th>\n",
       "      <th>run_time</th>\n",
       "      <th>throughput</th>\n",
       "      <th>time_abort</th>\n",
       "      <th>time_cleanup</th>\n",
       "      <th>time_index</th>\n",
       "      <th>time_man</th>\n",
       "      <th>time_query</th>\n",
       "      <th>time_ts_alloc</th>\n",
       "      <th>time_wait</th>\n",
       "      <th>txn_cnt</th>\n",
       "    </tr>\n",
       "  </thead>\n",
       "  <tbody>\n",
       "    <tr>\n",
       "      <th>0</th>\n",
       "      <td>1</td>\n",
       "      <td>CLV</td>\n",
       "      <td>100000</td>\n",
       "      <td>NaN</td>\n",
       "      <td>True</td>\n",
       "      <td>1</td>\n",
       "      <td>YCSB</td>\n",
       "      <td>0.6</td>\n",
       "      <td>0</td>\n",
       "      <td>0</td>\n",
       "      <td>...</td>\n",
       "      <td>0.379354</td>\n",
       "      <td>263605.882529</td>\n",
       "      <td>0.000000</td>\n",
       "      <td>0.062167</td>\n",
       "      <td>0.030397</td>\n",
       "      <td>0.204474</td>\n",
       "      <td>0.001967</td>\n",
       "      <td>0.0</td>\n",
       "      <td>0.000000</td>\n",
       "      <td>100000</td>\n",
       "    </tr>\n",
       "    <tr>\n",
       "      <th>1</th>\n",
       "      <td>1</td>\n",
       "      <td>CLV</td>\n",
       "      <td>100000</td>\n",
       "      <td>NaN</td>\n",
       "      <td>True</td>\n",
       "      <td>2</td>\n",
       "      <td>YCSB</td>\n",
       "      <td>0.6</td>\n",
       "      <td>272</td>\n",
       "      <td>0</td>\n",
       "      <td>...</td>\n",
       "      <td>2.351009</td>\n",
       "      <td>170137.155509</td>\n",
       "      <td>0.002452</td>\n",
       "      <td>0.496717</td>\n",
       "      <td>0.099556</td>\n",
       "      <td>1.741832</td>\n",
       "      <td>0.004094</td>\n",
       "      <td>0.0</td>\n",
       "      <td>0.000273</td>\n",
       "      <td>199997</td>\n",
       "    </tr>\n",
       "    <tr>\n",
       "      <th>2</th>\n",
       "      <td>1</td>\n",
       "      <td>CLV</td>\n",
       "      <td>100000</td>\n",
       "      <td>NaN</td>\n",
       "      <td>True</td>\n",
       "      <td>8</td>\n",
       "      <td>YCSB</td>\n",
       "      <td>0.6</td>\n",
       "      <td>142207</td>\n",
       "      <td>0</td>\n",
       "      <td>...</td>\n",
       "      <td>36.276166</td>\n",
       "      <td>176014.631290</td>\n",
       "      <td>3.814044</td>\n",
       "      <td>16.955770</td>\n",
       "      <td>0.341782</td>\n",
       "      <td>24.800761</td>\n",
       "      <td>0.029351</td>\n",
       "      <td>0.0</td>\n",
       "      <td>2.158468</td>\n",
       "      <td>798142</td>\n",
       "    </tr>\n",
       "    <tr>\n",
       "      <th>3</th>\n",
       "      <td>1</td>\n",
       "      <td>CLV</td>\n",
       "      <td>100000</td>\n",
       "      <td>NaN</td>\n",
       "      <td>True</td>\n",
       "      <td>16</td>\n",
       "      <td>YCSB</td>\n",
       "      <td>0.6</td>\n",
       "      <td>291876</td>\n",
       "      <td>0</td>\n",
       "      <td>...</td>\n",
       "      <td>164.232420</td>\n",
       "      <td>155497.970821</td>\n",
       "      <td>11.277315</td>\n",
       "      <td>117.602062</td>\n",
       "      <td>0.687498</td>\n",
       "      <td>133.594385</td>\n",
       "      <td>0.059940</td>\n",
       "      <td>0.0</td>\n",
       "      <td>8.186947</td>\n",
       "      <td>1596113</td>\n",
       "    </tr>\n",
       "    <tr>\n",
       "      <th>4</th>\n",
       "      <td>1</td>\n",
       "      <td>CLV</td>\n",
       "      <td>100000</td>\n",
       "      <td>NaN</td>\n",
       "      <td>True</td>\n",
       "      <td>32</td>\n",
       "      <td>YCSB</td>\n",
       "      <td>0.6</td>\n",
       "      <td>421069</td>\n",
       "      <td>0</td>\n",
       "      <td>...</td>\n",
       "      <td>796.211303</td>\n",
       "      <td>128485.370242</td>\n",
       "      <td>19.022319</td>\n",
       "      <td>707.788346</td>\n",
       "      <td>1.411456</td>\n",
       "      <td>741.383345</td>\n",
       "      <td>0.115010</td>\n",
       "      <td>0.0</td>\n",
       "      <td>12.928204</td>\n",
       "      <td>3196922</td>\n",
       "    </tr>\n",
       "  </tbody>\n",
       "</table>\n",
       "<p>5 rows × 29 columns</p>\n",
       "</div>"
      ],
      "text/plain": [
       "   ABORT_PENALTY CC_ALG  MAX_TXN_PER_PART  NUM_WH SYNTHETIC_YCSB  THREAD_CNT  \\\n",
       "0              1    CLV            100000     NaN           True           1   \n",
       "1              1    CLV            100000     NaN           True           2   \n",
       "2              1    CLV            100000     NaN           True           8   \n",
       "3              1    CLV            100000     NaN           True          16   \n",
       "4              1    CLV            100000     NaN           True          32   \n",
       "\n",
       "  WORKLOAD  ZIPF_THETA  abort_cnt  cycle_detect  ...    run_time  \\\n",
       "0     YCSB         0.6          0             0  ...    0.379354   \n",
       "1     YCSB         0.6        272             0  ...    2.351009   \n",
       "2     YCSB         0.6     142207             0  ...   36.276166   \n",
       "3     YCSB         0.6     291876             0  ...  164.232420   \n",
       "4     YCSB         0.6     421069             0  ...  796.211303   \n",
       "\n",
       "      throughput  time_abort  time_cleanup  time_index    time_man  \\\n",
       "0  263605.882529    0.000000      0.062167    0.030397    0.204474   \n",
       "1  170137.155509    0.002452      0.496717    0.099556    1.741832   \n",
       "2  176014.631290    3.814044     16.955770    0.341782   24.800761   \n",
       "3  155497.970821   11.277315    117.602062    0.687498  133.594385   \n",
       "4  128485.370242   19.022319    707.788346    1.411456  741.383345   \n",
       "\n",
       "   time_query  time_ts_alloc  time_wait  txn_cnt  \n",
       "0    0.001967            0.0   0.000000   100000  \n",
       "1    0.004094            0.0   0.000273   199997  \n",
       "2    0.029351            0.0   2.158468   798142  \n",
       "3    0.059940            0.0   8.186947  1596113  \n",
       "4    0.115010            0.0  12.928204  3196922  \n",
       "\n",
       "[5 rows x 29 columns]"
      ]
     },
     "execution_count": 9,
     "metadata": {},
     "output_type": "execute_result"
    }
   ],
   "source": [
    "clv.head()"
   ]
  },
  {
   "cell_type": "code",
   "execution_count": 8,
   "metadata": {},
   "outputs": [],
   "source": [
    "y = clv['throughput'].values"
   ]
  },
  {
   "cell_type": "code",
   "execution_count": 13,
   "metadata": {},
   "outputs": [],
   "source": [
    "X = clv.loc[:,['time_wait', 'abort_cnt']].values"
   ]
  },
  {
   "cell_type": "code",
   "execution_count": 14,
   "metadata": {},
   "outputs": [
    {
     "data": {
      "text/plain": [
       "LinearRegression(copy_X=True, fit_intercept=True, n_jobs=None, normalize=False)"
      ]
     },
     "execution_count": 14,
     "metadata": {},
     "output_type": "execute_result"
    }
   ],
   "source": [
    "reg.fit(X,y)"
   ]
  },
  {
   "cell_type": "code",
   "execution_count": 17,
   "metadata": {},
   "outputs": [
    {
     "data": {
      "text/plain": [
       "array([-1.20440654e+02, -3.79621785e-02])"
      ]
     },
     "execution_count": 17,
     "metadata": {},
     "output_type": "execute_result"
    }
   ],
   "source": [
    "reg.coef_"
   ]
  },
  {
   "cell_type": "code",
   "execution_count": null,
   "metadata": {},
   "outputs": [],
   "source": []
  }
 ],
 "metadata": {
  "kernelspec": {
   "display_name": "Python 3",
   "language": "python",
   "name": "python3"
  },
  "language_info": {
   "codemirror_mode": {
    "name": "ipython",
    "version": 3
   },
   "file_extension": ".py",
   "mimetype": "text/x-python",
   "name": "python",
   "nbconvert_exporter": "python",
   "pygments_lexer": "ipython3",
   "version": "3.7.3"
  }
 },
 "nbformat": 4,
 "nbformat_minor": 2
}
