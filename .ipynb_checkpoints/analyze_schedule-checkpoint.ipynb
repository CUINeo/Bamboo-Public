{
 "cells": [
  {
   "cell_type": "code",
   "execution_count": 48,
   "metadata": {},
   "outputs": [],
   "source": [
    "import pandas as pd\n",
    "from tqdm import tqdm"
   ]
  },
  {
   "cell_type": "code",
   "execution_count": 49,
   "metadata": {},
   "outputs": [],
   "source": [
    "clv = True\n",
    "NUM_THREAD = 15\n",
    "STATUS = {0:\"commit\", 2:\"abort\"}\n",
    "def get_thd(txn):\n",
    "    return int(txn) % NUM_THREAD\n",
    "def get_lock(lock_idx):\n",
    "    lock_idx = int(lock_idx)\n",
    "    if lock_idx == 0:\n",
    "        return \"SH\"\n",
    "    elif lock_idx == 1:\n",
    "        return \"EX\"\n",
    "    else:\n",
    "        return \"NONE\"\n",
    "def rm_txn(row, place, txn):\n",
    "    thread = get_thd(txn)\n",
    "    members = locktable[row][place]\n",
    "    found = False\n",
    "    for i, step in enumerate(members):\n",
    "        if step[0] == txn:\n",
    "            found = True\n",
    "            break\n",
    "    if not found:\n",
    "        print(\"not found: {}\".format(line))\n",
    "        raise\n",
    "    locktable[row][place] = members[:i] + members[i+1:]\n",
    "    return thread, members[i]\n",
    "def get_schedule(start, end, thread):\n",
    "    return schedule.loc[start:end+1, thread][schedule.loc[start:end+1, thread].notnull()]\n",
    "def find_locktable_with_txn(txn):\n",
    "    for row in locktable:\n",
    "        if txn in [item[0] for place in ['owners', 'waiters', 'retired'] for item in locktable[row][place] ]:\n",
    "            print(row)\n",
    "            print(locktable[row])\n",
    "def find_locktable_with_row(row):\n",
    "    print(locktable[row])\n",
    "def get_p(txn):\n",
    "    if txn in priority:\n",
    "        p = priority[txn]\n",
    "    else:\n",
    "        p = -1\n",
    "    return p"
   ]
  },
  {
   "cell_type": "code",
   "execution_count": 78,
   "metadata": {},
   "outputs": [],
   "source": [
    "def parse(line):\n",
    "    txn = \"\"\n",
    "    tokens = line.split(\" \")\n",
    "    if \"[thread]\" in line:\n",
    "        if \"start running txn\" in line:\n",
    "            thread = int(tokens[2])\n",
    "            txn = tokens[6]\n",
    "            schedule.loc[ts, thread] = \"start txn %s\"%txn\n",
    "            if clv:\n",
    "                barriers[txn] = 0\n",
    "        elif \"finish txn\" in line:\n",
    "            txn = tokens[3]\n",
    "            thread = get_thd(txn)\n",
    "            rc = tokens[-1]\n",
    "            # \"[thread-%lu] finish txn %lu (aborted)\\n\"\n",
    "            schedule.loc[ts, thread] = \"thread finish txn %s %s\"%(txn, thread)\n",
    "            \n",
    "    elif \"[row_\" in tokens[0]:\n",
    "            #return\n",
    "            if \"add txn\" in line:\n",
    "                    #[row_ww] add txn 1 type 1 to owners of row 1449388428864366\n",
    "                    txn = tokens[3]\n",
    "                    lock = get_lock(tokens[5])\n",
    "                    row = tokens[-1]\n",
    "                    thread = get_thd(txn)\n",
    "                    if row not in locktable:\n",
    "                        locktable[row] = {}\n",
    "                        locktable[row]['owners'] = []\n",
    "                        locktable[row]['waiters'] = []\n",
    "                        if clv:\n",
    "                            locktable[row]['retired'] = []\n",
    "                    \n",
    "                    locktable[row][tokens[7]].append((txn, get_p(txn), lock))\n",
    "                    if \"owner\" in tokens[7]:\n",
    "                        schedule.loc[ts, thread] = \"acquire %s lock %s\"%(lock, row)\n",
    "                    elif \"waiter\" in tokens[7]:\n",
    "                        schedule.loc[ts, thread] = \"wait %s lock %s\"%(lock, row)\n",
    "                    elif \"retired\" in tokens[7]:\n",
    "                        schedule.loc[ts, thread] = \"retire %s lock %s\"%(lock, row)\n",
    "            elif \"rm another txn\" in line:\n",
    "                    # [row_clv] txn %lu rm another txn %lu from owners of row %lu\n",
    "                    wounder = tokens[2]\n",
    "                    txn = tokens[6]\n",
    "                    row = tokens[-1]\n",
    "                    place = tokens[8]\n",
    "                    thread, _ = rm_txn(row, place, txn)\n",
    "                    if \"owner\" in place:\n",
    "                        schedule.loc[ts, thread] = \"removed lock %s from owners by %s\"%(row, wounder)\n",
    "                    elif \"retired\" in place:\n",
    "                        schedule.loc[ts, thread] = \"removed lock %s from retired by %s\"%(row, wounder)\n",
    "            elif \"rm txn\" in line:\n",
    "                    txn = tokens[3]\n",
    "                    row = tokens[-1]\n",
    "                    thread, _ = rm_txn(row, tokens[5], txn)\n",
    "                    if \"owner\" in tokens[5]:\n",
    "                        schedule.loc[ts, thread] = \"remove lock %s from owners\"%row\n",
    "                    elif \"waiter\" in tokens[5]:\n",
    "                        schedule.loc[ts, thread] = \"remove lock %s from waiters\"%row\n",
    "                    elif \"retired\" in tokens[5]:\n",
    "                        schedule.loc[ts, thread] = \"release lock %s from retired\"%row\n",
    "            elif \"from waiter to owner\" in line or \"from waiters to owners\" in line:\n",
    "                    # [row_ww] bring 0 from waiter to owner of row 1454103086539417\n",
    "                    txn = tokens[2]\n",
    "                    row = tokens[-1]\n",
    "                    thread = get_thd(txn)\n",
    "                    found = False\n",
    "                    thread, entry = rm_txn(row, \"waiters\", txn)\n",
    "                    entry = (entry[0], get_p(txn), entry[-1])\n",
    "                    locktable[row][\"owners\"].append(entry)\n",
    "                    schedule.loc[ts, thread] = \"acquire lock %s\"%row\n",
    "            elif \"from owners to retired\" in line:\n",
    "                    # [row_clv] move txn 0 from owners to retired type 0 of row 1459774078579136\n",
    "                    txn = tokens[3]\n",
    "                    row = tokens[-1]\n",
    "                    thread = get_thd(txn)\n",
    "                    found = False\n",
    "                    lock = get_lock(tokens[-4])\n",
    "                    locktable[row][\"retired\"].append((txn, get_p(txn), lock))\n",
    "                    schedule.loc[ts, thread] = \"retire lock %s\"%row\n",
    "            elif \"abort txn\" in line:\n",
    "                # [row_ww] txn 8 abort txn 6 on row 10\n",
    "                wound = tokens[2]\n",
    "                abort = tokens[-4]\n",
    "                row = tokens[-1]\n",
    "                txn = wound\n",
    "                schedule.loc[ts, get_thd(wound)] = \"wound %s on %s\"%(abort, row)\n",
    "                schedule.loc[ts, get_thd(abort)] = \"%s wounded by %s\"%(abort,wound)\n",
    "    elif \"[txn]\" in tokens[0]:\n",
    "        if \"set txn\" in line and \"to abort\" in line:\n",
    "            wounder = tokens[1]\n",
    "            txn = tokens[4]\n",
    "            schedule.loc[ts, get_thd(txn)] = \"txn %s set abort by %s\"% (txn, wounder)\n",
    "            schedule.loc[ts, get_thd(wounder)] = \"wound txn %s\"%txn\n",
    "        elif \"set ts\" in line:\n",
    "            #[txn] set ts %lu for txn %lu\\n\n",
    "            txn = tokens[-1]\n",
    "            p = tokens[3]\n",
    "            if txn in priority:\n",
    "                print(\"change priority of txn %s from %s to %s\"%(txn, priority[txn], p))\n",
    "            else:\n",
    "                print(\"set txn %s ts %s\"%(txn, p))\n",
    "            priority[txn] = p\n",
    "            schedule.loc[ts, get_thd(txn)] = \"set ts %s\"%p\n",
    "        elif \"is set to\" in line:\n",
    "            # [txn] txn %lu is set to commited\n",
    "            txn = tokens[2]\n",
    "            status = tokens[-1]\n",
    "            thread = get_thd(txn)\n",
    "            schedule.loc[ts, thread] = \"txn %s set %s\"%(txn, status) \n",
    "            print(\"txn %s set %s\"%(txn, status) )\n",
    "            if status != \"commited\":\n",
    "                barriers[txn] = -1\n",
    "        elif \"barrier\" in line:\n",
    "            # \"[txn] increment barrier for txn %lu\\n\"\n",
    "            txn = tokens[-1]\n",
    "            thread = get_thd(txn)\n",
    "            if tokens[1] == \"increment\":\n",
    "                barriers[txn] += 1\n",
    "            elif tokens[1] == \"decrement\":\n",
    "                barriers[txn] -= 1\n",
    "            schedule.loc[ts, thread] = \"txn %s %s barrier, now should be %d\"%(txn, tokens[1], barriers[txn])\n",
    "        elif \"# bariers\" in line:\n",
    "            # [txn] # bariers of txn 1 = 0\n",
    "            txn = tokens[-3]\n",
    "            thread = get_thd(txn)\n",
    "            schedule.loc[ts, thread] = \"pre-commit: txn %s's barriers = %d\"%(txn, int(tokens[-1]))\n",
    "            assert(int(tokens[-1]) == barriers[txn])\n",
    "    if \"barrier for txn 12\" in line or \"1054408\" in line :\n",
    "        print(\"[{}]: {}\".format(ts, line))\n",
    "        print(locktable['547288671054408'])"
   ]
  },
  {
   "cell_type": "code",
   "execution_count": 79,
   "metadata": {},
   "outputs": [],
   "source": [
    "output = open('debug.out')"
   ]
  },
  {
   "cell_type": "code",
   "execution_count": 80,
   "metadata": {},
   "outputs": [],
   "source": [
    "locktable = {} # row_id: { owners: {}, waiters: {}, (opt) retired: {}}\n",
    "barriers = {}\n",
    "priority = {}\n",
    "schedule = pd.DataFrame()\n",
    "ts = 0"
   ]
  },
  {
   "cell_type": "code",
   "execution_count": 81,
   "metadata": {},
   "outputs": [
    {
     "ename": "SyntaxError",
     "evalue": "invalid syntax (<ipython-input-81-5ec64b1d3f8e>, line 3)",
     "output_type": "error",
     "traceback": [
      "\u001b[0;36m  File \u001b[0;32m\"<ipython-input-81-5ec64b1d3f8e>\"\u001b[0;36m, line \u001b[0;32m3\u001b[0m\n\u001b[0;31m    parse(line.strip())[342]: [txn] increment barrier for txn 12\u001b[0m\n\u001b[0m                                            ^\u001b[0m\n\u001b[0;31mSyntaxError\u001b[0m\u001b[0;31m:\u001b[0m invalid syntax\n"
     ]
    }
   ],
   "source": [
    "for line in tqdm(output):\n",
    "    try:\n",
    "        parse(line.strip())[342]: [txn] increment barrier for txn 12\n",
    "\n",
    "        ts += 1\n",
    "    except:\n",
    "        print(line)\n",
    "        raise"
   ]
  },
  {
   "cell_type": "code",
   "execution_count": 54,
   "metadata": {},
   "outputs": [
    {
     "name": "stdout",
     "output_type": "stream",
     "text": [
      "thread 14: txn 29 decrement barrier, now should be 1\n",
      "thread 2: retire lock 547288830341325\n",
      "thread 0: pre-commit: txn 0's barriers = 2\n",
      "thread 6: pre-commit: txn 21's barriers = 2\n",
      "thread 3: pre-commit: txn 3's barriers = 1\n",
      "thread 10: pre-commit: txn 10's barriers = 3\n",
      "thread 9: pre-commit: txn 9's barriers = 1\n",
      "thread 1: pre-commit: txn 16's barriers = 2\n",
      "thread 13: pre-commit: txn 28's barriers = 1\n",
      "thread 4: pre-commit: txn 4's barriers = 1\n",
      "thread 12: pre-commit: txn 12's barriers = 1\n",
      "thread 8: pre-commit: txn 8's barriers = 2\n",
      "thread 11: pre-commit: txn 11's barriers = 2\n",
      "thread 5: pre-commit: txn 5's barriers = 2\n",
      "thread 7: pre-commit: txn 7's barriers = 2\n"
     ]
    }
   ],
   "source": [
    "import numpy as np\n",
    "for i in schedule:\n",
    "    print(\"thread {}: {}\".format(i, schedule[i][schedule[i].notnull()].values[-1]))"
   ]
  },
  {
   "cell_type": "code",
   "execution_count": 61,
   "metadata": {},
   "outputs": [
    {
     "name": "stdout",
     "output_type": "stream",
     "text": [
      "547288671054408\n",
      "{'owners': [], 'waiters': [], 'retired': [('12', '4', 'EX'), ('29', -1, 'EX'), ('4', '8', 'EX'), ('3', '9', 'SH'), ('10', '10', 'EX'), ('9', '11', 'EX'), ('8', '12', 'EX'), ('11', '13', 'SH'), ('0', '14', 'SH'), ('5', '15', 'EX'), ('7', '16', 'EX'), ('28', -1, 'SH'), ('21', '18', 'SH'), ('16', '19', 'SH'), ('17', '20', 'EX')]}\n",
      "547289226325566\n",
      "{'owners': [], 'waiters': [], 'retired': [('12', '4', 'EX')]}\n",
      "547288671064569\n",
      "{'owners': [], 'waiters': [], 'retired': [('12', '4', 'SH'), ('5', '15', 'SH')]}\n",
      "547288665579921\n",
      "{'owners': [], 'waiters': [], 'retired': [('12', '4', 'EX')]}\n",
      "547289052598536\n",
      "{'owners': [], 'waiters': [], 'retired': [('12', '4', 'SH')]}\n",
      "547288659157581\n",
      "{'owners': [], 'waiters': [], 'retired': [('12', '4', 'EX')]}\n",
      "547289028221090\n",
      "{'owners': [], 'waiters': [], 'retired': [('12', '4', 'SH')]}\n",
      "547288656997888\n",
      "{'owners': [], 'waiters': [], 'retired': [('12', '4', 'EX')]}\n",
      "547289019994082\n",
      "{'owners': [], 'waiters': [], 'retired': [('12', '4', 'SH')]}\n",
      "547288659086437\n",
      "{'owners': [], 'waiters': [], 'retired': [('12', '4', 'EX')]}\n",
      "547289027968465\n",
      "{'owners': [], 'waiters': [], 'retired': [('12', '4', 'SH')]}\n",
      "547288619877832\n",
      "{'owners': [], 'waiters': [], 'retired': [('12', '4', 'EX')]}\n",
      "547288880955681\n",
      "{'owners': [], 'waiters': [], 'retired': [('12', '4', 'SH')]}\n",
      "547288664983804\n",
      "{'owners': [], 'waiters': [], 'retired': [('12', '4', 'EX')]}\n",
      "547289050265126\n",
      "{'owners': [], 'waiters': [], 'retired': [('12', '4', 'SH')]}\n",
      "547288623539057\n",
      "{'owners': [], 'waiters': [], 'retired': [('12', '4', 'EX')]}\n",
      "547288894665616\n",
      "{'owners': [], 'waiters': [], 'retired': [('12', '4', 'SH')]}\n",
      "547288667683052\n",
      "{'owners': [], 'waiters': [], 'retired': [('12', '4', 'EX')]}\n",
      "547289060564476\n",
      "{'owners': [], 'waiters': [], 'retired': [('12', '4', 'SH')]}\n",
      "547288645249719\n",
      "{'owners': [], 'waiters': [], 'retired': [('12', '4', 'EX')]}\n",
      "547288975724184\n",
      "{'owners': [], 'waiters': [], 'retired': [('12', '4', 'SH')]}\n",
      "547288587010366\n",
      "{'owners': [], 'waiters': [], 'retired': [('12', '4', 'EX')]}\n",
      "547288764004566\n",
      "{'owners': [], 'waiters': [], 'retired': [('12', '4', 'SH')]}\n",
      "547288586794884\n",
      "{'owners': [], 'waiters': [], 'retired': [('12', '4', 'EX')]}\n",
      "547288763184882\n",
      "{'owners': [], 'waiters': [], 'retired': [('12', '4', 'SH')]}\n"
     ]
    }
   ],
   "source": [
    "find_locktable_with_txn('12')"
   ]
  },
  {
   "cell_type": "code",
   "execution_count": 56,
   "metadata": {},
   "outputs": [],
   "source": [
    "# for row in get_schedule(10454, 10619, [0,1,2]).iterrows():\n",
    "#     v = \" | \".join([str(x) for x in row[1].values])\n",
    "#     if \"115690\" in v or \"160397\" in v:\n",
    "#         print(v)"
   ]
  },
  {
   "cell_type": "code",
   "execution_count": 57,
   "metadata": {},
   "outputs": [],
   "source": [
    "#schedule.to_csv('sample_schedule.csv', index=False)"
   ]
  },
  {
   "cell_type": "code",
   "execution_count": 58,
   "metadata": {
    "scrolled": true
   },
   "outputs": [
    {
     "name": "stdout",
     "output_type": "stream",
     "text": [
      "0 = 2 at thread 0\n",
      "3 = 1 at thread 3\n",
      "10 = 3 at thread 10\n",
      "9 = 1 at thread 9\n",
      "4 = 1 at thread 4\n",
      "12 = 1 at thread 12\n",
      "8 = 2 at thread 8\n",
      "11 = 2 at thread 11\n",
      "5 = 2 at thread 5\n",
      "7 = 2 at thread 7\n",
      "29 = 1 at thread 14\n",
      "28 = 1 at thread 13\n",
      "21 = 2 at thread 6\n",
      "16 = 2 at thread 1\n",
      "17 = 2 at thread 2\n"
     ]
    }
   ],
   "source": [
    "for b in barriers:\n",
    "    if barriers[b] > 0:\n",
    "        print(\"{} = {} at thread {}\".format(b, barriers[b], int(b)%NUM_THREAD))"
   ]
  },
  {
   "cell_type": "code",
   "execution_count": 31,
   "metadata": {},
   "outputs": [
    {
     "data": {
      "text/plain": [
       "61                                   start txn 9\n",
       "175                 wait EX lock 545013503296581\n",
       "176                 acquire lock 545013503296581\n",
       "177      remove lock 545013503296581 from owners\n",
       "178                  retire lock 545013503296581\n",
       "                         ...                    \n",
       "312    release lock 545014001632375 from retired\n",
       "314    release lock 545013503296581 from retired\n",
       "317                                 start txn 24\n",
       "318                                    set ts 14\n",
       "319                 wait SH lock 545013503296581\n",
       "Name: 9, Length: 121, dtype: object"
      ]
     },
     "execution_count": 31,
     "metadata": {},
     "output_type": "execute_result"
    }
   ],
   "source": [
    "get_schedule(1,1000, 9)"
   ]
  },
  {
   "cell_type": "code",
   "execution_count": null,
   "metadata": {},
   "outputs": [],
   "source": []
  }
 ],
 "metadata": {
  "kernelspec": {
   "display_name": "Python 3",
   "language": "python",
   "name": "python3"
  },
  "language_info": {
   "codemirror_mode": {
    "name": "ipython",
    "version": 3
   },
   "file_extension": ".py",
   "mimetype": "text/x-python",
   "name": "python",
   "nbconvert_exporter": "python",
   "pygments_lexer": "ipython3",
   "version": "3.6.9"
  }
 },
 "nbformat": 4,
 "nbformat_minor": 2
}
