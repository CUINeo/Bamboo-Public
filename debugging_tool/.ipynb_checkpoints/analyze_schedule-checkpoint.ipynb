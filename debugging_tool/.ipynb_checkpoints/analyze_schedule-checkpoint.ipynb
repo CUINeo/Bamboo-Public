{
 "cells": [
  {
   "cell_type": "code",
   "execution_count": 1,
   "metadata": {},
   "outputs": [],
   "source": [
    "from analyze_helper import *"
   ]
  },
  {
   "cell_type": "code",
   "execution_count": 2,
   "metadata": {},
   "outputs": [
    {
     "name": "stdout",
     "output_type": "stream",
     "text": [
      "[row_clv-4977674571579676 txn-7 (0)] add to owners (type 0)\n",
      "\n",
      "{'owners': [(7, 0, 'EX')], 'waiters': [], 'retired': []}\n",
      "[row_clv-4977674571579676 txn-7 (0)] rm from owners\n",
      "\n",
      "{'owners': [], 'waiters': [], 'retired': []}\n",
      "[row_clv-4977674571579676 txn-7 (0)] move to retired (type 0), is_cohead=1, delta=0\n",
      "\n",
      "{'owners': [], 'waiters': [], 'retired': [(7, 0, 'EX', True, False)]}\n",
      "[row_clv-4977674571579676 txn-2 (3)] add to waiters (type 1)\n",
      "\n",
      "{'owners': [], 'waiters': [(2, 3, 'SH')], 'retired': [(7, 2, 'EX', True, False)]}\n",
      "[row_clv-4977674571579676 txn-2 (3)] move to owners\n",
      "\n",
      "{'owners': [(2, 3, 'SH')], 'waiters': [], 'retired': [(7, 2, 'EX', True, False)]}\n",
      "[row_clv-4977674571579676 txn-2 (3)] rm from owners\n",
      "\n",
      "{'owners': [], 'waiters': [], 'retired': [(7, 2, 'EX', True, False)]}\n",
      "[row_clv-4977674571579676 txn-2 (3)] move to retired (type 1), is_cohead=0, delta=1\n",
      "\n",
      "{'owners': [], 'waiters': [], 'retired': [(7, 2, 'EX', True, False), (2, 3, 'SH', False, True)]}\n",
      "[row-4977674571579676 txn-7] try to release lock when aborted\n",
      "\n",
      "{'owners': [], 'waiters': [], 'retired': [(7, 2, 'EX', True, False), (2, 3, 'SH', False, True)]}\n",
      "[row_clv-4977674571579676 txn-1 (6)] add to waiters (type 1)\n",
      "\n",
      "{'owners': [], 'waiters': [(1, 6, 'SH')], 'retired': [(7, 2, 'EX', True, False), (2, 3, 'SH', False, True)]}\n",
      "[row_clv-4977674571579676 txn-1 (6)] move to owners\n",
      "\n",
      "{'owners': [(1, 6, 'SH')], 'waiters': [], 'retired': [(7, 2, 'EX', True, False), (2, 3, 'SH', False, True)]}\n",
      "[row_clv-4977674571579676 txn-1 (6)] rm from owners\n",
      "\n",
      "{'owners': [], 'waiters': [], 'retired': [(7, 2, 'EX', True, False), (2, 3, 'SH', False, True)]}\n",
      "[row_clv-4977674571579676 txn-1 (6)] move to retired (type 1), is_cohead=0, delta=0\n",
      "\n",
      "{'owners': [], 'waiters': [], 'retired': [(7, 2, 'EX', True, False), (2, 3, 'SH', False, True), (1, 6, 'SH', False, False)]}\n",
      "[row_clv-4977674571579676 txn-4 (10)] add to waiters (type 0)\n",
      "\n",
      "{'owners': [], 'waiters': [(4, 10, 'EX')], 'retired': [(7, 7, 'EX', True, False), (2, 3, 'SH', False, True), (1, 6, 'SH', False, False)]}\n"
     ]
    }
   ],
   "source": [
    "output = open('debug.out')\n",
    "ts = 1\n",
    "for line in output:\n",
    "    try:\n",
    "        ts = parse(line.strip(), ts)\n",
    "        if (\"4977674571579676\" in line):\n",
    "            print(line)\n",
    "            print(locktable[\"4977674571579676\"])\n",
    "            print('\\n\\n')\n",
    "    except:\n",
    "        print(line)\n",
    "        raise"
   ]
  },
  {
   "cell_type": "code",
   "execution_count": 3,
   "metadata": {},
   "outputs": [
    {
     "data": {
      "text/html": [
       "<div>\n",
       "<style scoped>\n",
       "    .dataframe tbody tr th:only-of-type {\n",
       "        vertical-align: middle;\n",
       "    }\n",
       "\n",
       "    .dataframe tbody tr th {\n",
       "        vertical-align: top;\n",
       "    }\n",
       "\n",
       "    .dataframe thead th {\n",
       "        text-align: right;\n",
       "    }\n",
       "</style>\n",
       "<table border=\"1\" class=\"dataframe\">\n",
       "  <thead>\n",
       "    <tr style=\"text-align: right;\">\n",
       "      <th></th>\n",
       "      <th>7</th>\n",
       "      <th>2</th>\n",
       "      <th>5</th>\n",
       "      <th>1</th>\n",
       "      <th>6</th>\n",
       "      <th>4</th>\n",
       "      <th>0</th>\n",
       "      <th>3</th>\n",
       "    </tr>\n",
       "  </thead>\n",
       "  <tbody>\n",
       "    <tr>\n",
       "      <th>3</th>\n",
       "      <td>txn 7  start running</td>\n",
       "      <td>NaN</td>\n",
       "      <td>NaN</td>\n",
       "      <td>NaN</td>\n",
       "      <td>NaN</td>\n",
       "      <td>NaN</td>\n",
       "      <td>NaN</td>\n",
       "      <td>NaN</td>\n",
       "    </tr>\n",
       "    <tr>\n",
       "      <th>8</th>\n",
       "      <td>NaN</td>\n",
       "      <td>txn 2  start running</td>\n",
       "      <td>NaN</td>\n",
       "      <td>NaN</td>\n",
       "      <td>NaN</td>\n",
       "      <td>NaN</td>\n",
       "      <td>NaN</td>\n",
       "      <td>NaN</td>\n",
       "    </tr>\n",
       "    <tr>\n",
       "      <th>10</th>\n",
       "      <td>NaN</td>\n",
       "      <td>NaN</td>\n",
       "      <td>txn 5  start running</td>\n",
       "      <td>NaN</td>\n",
       "      <td>NaN</td>\n",
       "      <td>NaN</td>\n",
       "      <td>NaN</td>\n",
       "      <td>NaN</td>\n",
       "    </tr>\n",
       "    <tr>\n",
       "      <th>12</th>\n",
       "      <td>NaN</td>\n",
       "      <td>NaN</td>\n",
       "      <td>NaN</td>\n",
       "      <td>txn 1  start running</td>\n",
       "      <td>NaN</td>\n",
       "      <td>NaN</td>\n",
       "      <td>NaN</td>\n",
       "      <td>NaN</td>\n",
       "    </tr>\n",
       "    <tr>\n",
       "      <th>15</th>\n",
       "      <td>NaN</td>\n",
       "      <td>txn 2  set ts 3</td>\n",
       "      <td>NaN</td>\n",
       "      <td>NaN</td>\n",
       "      <td>NaN</td>\n",
       "      <td>NaN</td>\n",
       "      <td>NaN</td>\n",
       "      <td>NaN</td>\n",
       "    </tr>\n",
       "    <tr>\n",
       "      <th>17</th>\n",
       "      <td>NaN</td>\n",
       "      <td>NaN</td>\n",
       "      <td>NaN</td>\n",
       "      <td>NaN</td>\n",
       "      <td>txn 6  start running</td>\n",
       "      <td>NaN</td>\n",
       "      <td>NaN</td>\n",
       "      <td>NaN</td>\n",
       "    </tr>\n",
       "    <tr>\n",
       "      <th>19</th>\n",
       "      <td>NaN</td>\n",
       "      <td>NaN</td>\n",
       "      <td>NaN</td>\n",
       "      <td>NaN</td>\n",
       "      <td>NaN</td>\n",
       "      <td>txn 4  start running</td>\n",
       "      <td>NaN</td>\n",
       "      <td>NaN</td>\n",
       "    </tr>\n",
       "    <tr>\n",
       "      <th>20</th>\n",
       "      <td>txn 7  set ts 2</td>\n",
       "      <td>NaN</td>\n",
       "      <td>NaN</td>\n",
       "      <td>NaN</td>\n",
       "      <td>NaN</td>\n",
       "      <td>NaN</td>\n",
       "      <td>NaN</td>\n",
       "      <td>NaN</td>\n",
       "    </tr>\n",
       "    <tr>\n",
       "      <th>21</th>\n",
       "      <td>NaN</td>\n",
       "      <td>NaN</td>\n",
       "      <td>NaN</td>\n",
       "      <td>NaN</td>\n",
       "      <td>NaN</td>\n",
       "      <td>NaN</td>\n",
       "      <td>txn 0  start running</td>\n",
       "      <td>NaN</td>\n",
       "    </tr>\n",
       "    <tr>\n",
       "      <th>23</th>\n",
       "      <td>NaN</td>\n",
       "      <td>NaN</td>\n",
       "      <td>NaN</td>\n",
       "      <td>NaN</td>\n",
       "      <td>NaN</td>\n",
       "      <td>NaN</td>\n",
       "      <td>NaN</td>\n",
       "      <td>txn 3  start running</td>\n",
       "    </tr>\n",
       "    <tr>\n",
       "      <th>29</th>\n",
       "      <td>NaN</td>\n",
       "      <td>txn 2  increment barrier to 1</td>\n",
       "      <td>NaN</td>\n",
       "      <td>NaN</td>\n",
       "      <td>NaN</td>\n",
       "      <td>NaN</td>\n",
       "      <td>NaN</td>\n",
       "      <td>NaN</td>\n",
       "    </tr>\n",
       "    <tr>\n",
       "      <th>35</th>\n",
       "      <td>NaN</td>\n",
       "      <td>NaN</td>\n",
       "      <td>NaN</td>\n",
       "      <td>txn 1  set ts 6</td>\n",
       "      <td>NaN</td>\n",
       "      <td>NaN</td>\n",
       "      <td>NaN</td>\n",
       "      <td>NaN</td>\n",
       "    </tr>\n",
       "    <tr>\n",
       "      <th>41</th>\n",
       "      <td>txn 7  is set to commited</td>\n",
       "      <td>NaN</td>\n",
       "      <td>NaN</td>\n",
       "      <td>NaN</td>\n",
       "      <td>NaN</td>\n",
       "      <td>NaN</td>\n",
       "      <td>NaN</td>\n",
       "      <td>NaN</td>\n",
       "    </tr>\n",
       "    <tr>\n",
       "      <th>54</th>\n",
       "      <td>NaN</td>\n",
       "      <td>NaN</td>\n",
       "      <td>NaN</td>\n",
       "      <td>txn 1  increment barrier to 1</td>\n",
       "      <td>NaN</td>\n",
       "      <td>NaN</td>\n",
       "      <td>NaN</td>\n",
       "      <td>NaN</td>\n",
       "    </tr>\n",
       "    <tr>\n",
       "      <th>65</th>\n",
       "      <td>NaN</td>\n",
       "      <td>NaN</td>\n",
       "      <td>NaN</td>\n",
       "      <td>NaN</td>\n",
       "      <td>NaN</td>\n",
       "      <td>txn 4  set ts 10</td>\n",
       "      <td>NaN</td>\n",
       "      <td>NaN</td>\n",
       "    </tr>\n",
       "    <tr>\n",
       "      <th>68</th>\n",
       "      <td>txn 7  set ts 7</td>\n",
       "      <td>NaN</td>\n",
       "      <td>NaN</td>\n",
       "      <td>NaN</td>\n",
       "      <td>NaN</td>\n",
       "      <td>NaN</td>\n",
       "      <td>NaN</td>\n",
       "      <td>NaN</td>\n",
       "    </tr>\n",
       "  </tbody>\n",
       "</table>\n",
       "</div>"
      ],
      "text/plain": [
       "                            7                              2  \\\n",
       "3        txn 7  start running                            NaN   \n",
       "8                         NaN           txn 2  start running   \n",
       "10                        NaN                            NaN   \n",
       "12                        NaN                            NaN   \n",
       "15                        NaN                txn 2  set ts 3   \n",
       "17                        NaN                            NaN   \n",
       "19                        NaN                            NaN   \n",
       "20            txn 7  set ts 2                            NaN   \n",
       "21                        NaN                            NaN   \n",
       "23                        NaN                            NaN   \n",
       "29                        NaN  txn 2  increment barrier to 1   \n",
       "35                        NaN                            NaN   \n",
       "41  txn 7  is set to commited                            NaN   \n",
       "54                        NaN                            NaN   \n",
       "65                        NaN                            NaN   \n",
       "68            txn 7  set ts 7                            NaN   \n",
       "\n",
       "                       5                              1                     6  \\\n",
       "3                    NaN                            NaN                   NaN   \n",
       "8                    NaN                            NaN                   NaN   \n",
       "10  txn 5  start running                            NaN                   NaN   \n",
       "12                   NaN           txn 1  start running                   NaN   \n",
       "15                   NaN                            NaN                   NaN   \n",
       "17                   NaN                            NaN  txn 6  start running   \n",
       "19                   NaN                            NaN                   NaN   \n",
       "20                   NaN                            NaN                   NaN   \n",
       "21                   NaN                            NaN                   NaN   \n",
       "23                   NaN                            NaN                   NaN   \n",
       "29                   NaN                            NaN                   NaN   \n",
       "35                   NaN                txn 1  set ts 6                   NaN   \n",
       "41                   NaN                            NaN                   NaN   \n",
       "54                   NaN  txn 1  increment barrier to 1                   NaN   \n",
       "65                   NaN                            NaN                   NaN   \n",
       "68                   NaN                            NaN                   NaN   \n",
       "\n",
       "                       4                     0                     3  \n",
       "3                    NaN                   NaN                   NaN  \n",
       "8                    NaN                   NaN                   NaN  \n",
       "10                   NaN                   NaN                   NaN  \n",
       "12                   NaN                   NaN                   NaN  \n",
       "15                   NaN                   NaN                   NaN  \n",
       "17                   NaN                   NaN                   NaN  \n",
       "19  txn 4  start running                   NaN                   NaN  \n",
       "20                   NaN                   NaN                   NaN  \n",
       "21                   NaN  txn 0  start running                   NaN  \n",
       "23                   NaN                   NaN  txn 3  start running  \n",
       "29                   NaN                   NaN                   NaN  \n",
       "35                   NaN                   NaN                   NaN  \n",
       "41                   NaN                   NaN                   NaN  \n",
       "54                   NaN                   NaN                   NaN  \n",
       "65      txn 4  set ts 10                   NaN                   NaN  \n",
       "68                   NaN                   NaN                   NaN  "
      ]
     },
     "execution_count": 3,
     "metadata": {},
     "output_type": "execute_result"
    }
   ],
   "source": [
    "schedule"
   ]
  },
  {
   "cell_type": "code",
   "execution_count": 4,
   "metadata": {
    "scrolled": true
   },
   "outputs": [
    {
     "name": "stdout",
     "output_type": "stream",
     "text": [
      "txn 2 (running)'s barriers = 1 at thread 2\n",
      "txn 1 (running)'s barriers = 1 at thread 1\n"
     ]
    }
   ],
   "source": [
    "for txn in barriers:\n",
    "    if barriers[txn] > 0:\n",
    "        print(\"txn {} ({})'s barriers = {} at thread {}\".format(txn, status[txn], barriers[txn], int(txn)%NUM_THREAD))"
   ]
  },
  {
   "cell_type": "code",
   "execution_count": 5,
   "metadata": {},
   "outputs": [
    {
     "name": "stdout",
     "output_type": "stream",
     "text": [
      "txn 2 (3, running) is waiting for []\n",
      "txn 5 (0, running) is waiting for []\n",
      "txn 1 (6, running) is waiting for [3]\n",
      "txn 6 (0, running) is waiting for []\n",
      "txn 4 (10, running) is waiting for [3, 6]\n",
      "txn 0 (0, running) is waiting for []\n",
      "txn 3 (0, running) is waiting for []\n"
     ]
    }
   ],
   "source": [
    "dependencies = {}\n",
    "for txn in priority:\n",
    "    dependencies[priority[txn]] = []\n",
    "    for row in locktable:\n",
    "        txns = [item[0] for place in ['retired', 'owners', 'waiters'] for item in locktable[row][place]]\n",
    "        for i, t in enumerate(txns):\n",
    "            if t == txn:\n",
    "                dependencies[priority[txn]] += [ priority[j] for j in txns[:i] if status[j] == \"running\"]\n",
    "    dependencies[priority[txn]] = sorted(list(set(dependencies[priority[txn]])))\n",
    "    if (status[txn] == \"running\"):\n",
    "        print(\"txn {} ({}, {}) is waiting for {}\".format(txn, priority[txn], status[txn], dependencies[priority[txn]]))"
   ]
  },
  {
   "cell_type": "code",
   "execution_count": 6,
   "metadata": {},
   "outputs": [
    {
     "data": {
      "text/plain": [
       "{7: 'commited',\n",
       " 2: 'running',\n",
       " 5: 'running',\n",
       " 1: 'running',\n",
       " 6: 'running',\n",
       " 4: 'running',\n",
       " 0: 'running',\n",
       " 3: 'running'}"
      ]
     },
     "execution_count": 6,
     "metadata": {},
     "output_type": "execute_result"
    }
   ],
   "source": [
    "status"
   ]
  },
  {
   "cell_type": "code",
   "execution_count": 7,
   "metadata": {},
   "outputs": [
    {
     "name": "stdout",
     "output_type": "stream",
     "text": [
      "4977674571579676\n",
      "{'owners': [], 'waiters': [(4, 10, 'EX')], 'retired': [(7, 7, 'EX', True, False), (2, 3, 'SH', False, True), (1, 6, 'SH', False, False)]}\n"
     ]
    },
    {
     "data": {
      "text/plain": [
       "True"
      ]
     },
     "execution_count": 7,
     "metadata": {},
     "output_type": "execute_result"
    }
   ],
   "source": [
    "find_locktable_with_txn(4, True)"
   ]
  },
  {
   "cell_type": "code",
   "execution_count": 8,
   "metadata": {},
   "outputs": [
    {
     "data": {
      "text/plain": [
       "{7: 7, 2: 3, 5: 0, 1: 6, 6: 0, 4: 10, 0: 0, 3: 0}"
      ]
     },
     "execution_count": 8,
     "metadata": {},
     "output_type": "execute_result"
    }
   ],
   "source": [
    "priority"
   ]
  },
  {
   "cell_type": "code",
   "execution_count": 9,
   "metadata": {},
   "outputs": [
    {
     "data": {
      "text/plain": [
       "{7: 'commited',\n",
       " 2: 'running',\n",
       " 5: 'running',\n",
       " 1: 'running',\n",
       " 6: 'running',\n",
       " 4: 'running',\n",
       " 0: 'running',\n",
       " 3: 'running'}"
      ]
     },
     "execution_count": 9,
     "metadata": {},
     "output_type": "execute_result"
    }
   ],
   "source": [
    "status"
   ]
  },
  {
   "cell_type": "code",
   "execution_count": null,
   "metadata": {},
   "outputs": [],
   "source": []
  }
 ],
 "metadata": {
  "kernelspec": {
   "display_name": "Python 3",
   "language": "python",
   "name": "python3"
  },
  "language_info": {
   "codemirror_mode": {
    "name": "ipython",
    "version": 3
   },
   "file_extension": ".py",
   "mimetype": "text/x-python",
   "name": "python",
   "nbconvert_exporter": "python",
   "pygments_lexer": "ipython3",
   "version": "3.7.3"
  }
 },
 "nbformat": 4,
 "nbformat_minor": 2
}
