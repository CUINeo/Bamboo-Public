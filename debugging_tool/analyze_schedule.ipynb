{
 "cells": [
  {
   "cell_type": "code",
   "execution_count": 1,
   "metadata": {},
   "outputs": [],
   "source": [
    "from analyze_helper import *"
   ]
  },
  {
   "cell_type": "code",
   "execution_count": 2,
   "metadata": {},
   "outputs": [],
   "source": [
    "output = open('debug-1.out')"
   ]
  },
  {
   "cell_type": "code",
   "execution_count": 3,
   "metadata": {},
   "outputs": [
    {
     "name": "stdout",
     "output_type": "stream",
     "text": [
      "ERROR: find in waiters ([row_clv-4810159406938800 txn-17 (28)] cannot find entry when trying to release)\n",
      "\n",
      "4810159406938800\n",
      "ERROR: txn 17 aborted, should have no entry in locktable\n",
      "\n",
      "ERROR: find in waiters ([row_clv-4810159406938449 txn-5 (124)] cannot find entry when trying to release)\n",
      "\n"
     ]
    }
   ],
   "source": [
    "ts = 0\n",
    "for line in output:\n",
    "    try:\n",
    "        ts = parse(line.strip(), ts)\n",
    "    except:\n",
    "        print(line)\n",
    "        raise"
   ]
  },
  {
   "cell_type": "code",
   "execution_count": 4,
   "metadata": {},
   "outputs": [
    {
     "data": {
      "text/plain": [
       "31    txn 1  start running\n",
       "Name: 1, dtype: object"
      ]
     },
     "execution_count": 4,
     "metadata": {},
     "output_type": "execute_result"
    }
   ],
   "source": [
    "get_schedule(0,schedule.shape[0],1)"
   ]
  },
  {
   "cell_type": "code",
   "execution_count": 5,
   "metadata": {
    "scrolled": true
   },
   "outputs": [
    {
     "name": "stdout",
     "output_type": "stream",
     "text": [
      "txn 7 (running)'s barriers = 1 at thread 7\n",
      "txn 19 (running)'s barriers = 3 at thread 19\n",
      "txn 14 (running)'s barriers = 1 at thread 14\n",
      "txn 9 (running)'s barriers = 2 at thread 9\n",
      "txn 16 (running)'s barriers = 4 at thread 16\n",
      "txn 8 (running)'s barriers = 2 at thread 8\n",
      "txn 0 (running)'s barriers = 7 at thread 0\n",
      "txn 11 (running)'s barriers = 2 at thread 11\n",
      "txn 2 (running)'s barriers = 5 at thread 2\n",
      "txn 1 (running)'s barriers = 3 at thread 1\n",
      "txn 18 (aborted)'s barriers = 1 at thread 18\n",
      "txn 10 (running)'s barriers = 2 at thread 10\n",
      "txn 5 (abort)'s barriers = 2 at thread 5\n",
      "txn 4 (running)'s barriers = 4 at thread 4\n"
     ]
    }
   ],
   "source": [
    "for txn in barriers:\n",
    "    if barriers[txn] > 0:\n",
    "        print(\"txn {} ({})'s barriers = {} at thread {}\".format(txn, status[txn], barriers[txn], int(txn)%NUM_THREAD))"
   ]
  },
  {
   "cell_type": "code",
   "execution_count": 6,
   "metadata": {},
   "outputs": [
    {
     "name": "stdout",
     "output_type": "stream",
     "text": [
      "txn 3 (0, running) is waiting for []\n",
      "txn 7 (3, running) is waiting for []\n",
      "txn 19 (74, running) is waiting for [3, 6, 10, 15, 21, 36, 53, 63]\n",
      "txn 14 (6, running) is waiting for [3]\n",
      "txn 15 (-1, running) is waiting for []\n",
      "txn 9 (10, running) is waiting for [3, 6]\n",
      "txn 16 (85, running) is waiting for [3, 6, 10, 15, 21, 36, 53, 63, 74]\n",
      "txn 8 (15, running) is waiting for [3, 6, 10]\n",
      "txn 0 (97, running) is waiting for [3, 6, 10, 15, 21, 36, 53, 63, 74, 85]\n",
      "txn 11 (21, running) is waiting for [3, 6, 10, 15]\n",
      "txn 13 (0, running) is waiting for []\n",
      "txn 2 (110, running) is waiting for [3, 6, 10, 15, 21, 36, 53, 63, 74, 85, 97]\n",
      "txn 1 (36, running) is waiting for [3, 6, 10, 15, 21]\n",
      "txn 10 (53, running) is waiting for [3, 6, 10, 15, 21, 36]\n",
      "txn 4 (63, running) is waiting for [3, 6, 10, 15, 21, 36, 53]\n",
      "txn 12 (0, running) is waiting for []\n",
      "txn 37 (0, running) is waiting for []\n"
     ]
    }
   ],
   "source": [
    "dependencies = {}\n",
    "for txn in priority:\n",
    "    dependencies[priority[txn]] = []\n",
    "    for row in locktable:\n",
    "        txns = [item[0] for place in ['retired', 'owners', 'waiters'] for item in locktable[row][place]]\n",
    "        for i, t in enumerate(txns):\n",
    "            if t == txn:\n",
    "                dependencies[priority[txn]] += [ priority[j] for j in txns[:i] if status[j] == \"running\"]\n",
    "    dependencies[priority[txn]] = sorted(list(set(dependencies[priority[txn]])))\n",
    "    if (status[txn] == \"running\"):\n",
    "        print(\"txn {} ({}, {}) is waiting for {}\".format(txn, priority[txn], status[txn], dependencies[priority[txn]]))"
   ]
  },
  {
   "cell_type": "code",
   "execution_count": 7,
   "metadata": {},
   "outputs": [
    {
     "data": {
      "text/plain": [
       "{6: 'commited',\n",
       " 3: 'running',\n",
       " 7: 'running',\n",
       " 19: 'running',\n",
       " 14: 'running',\n",
       " 15: 'running',\n",
       " 9: 'running',\n",
       " 16: 'running',\n",
       " 8: 'running',\n",
       " 0: 'running',\n",
       " 11: 'running',\n",
       " 13: 'running',\n",
       " 17: 'aborted',\n",
       " 2: 'running',\n",
       " 1: 'running',\n",
       " 18: 'aborted',\n",
       " 10: 'running',\n",
       " 5: 'abort',\n",
       " 4: 'running',\n",
       " 12: 'running',\n",
       " 37: 'running'}"
      ]
     },
     "execution_count": 7,
     "metadata": {},
     "output_type": "execute_result"
    }
   ],
   "source": [
    "status"
   ]
  },
  {
   "cell_type": "code",
   "execution_count": 13,
   "metadata": {},
   "outputs": [
    {
     "name": "stdout",
     "output_type": "stream",
     "text": [
      "4810159406621760\n",
      "{'owners': [], 'waiters': [], 'retired': [(6, 0, 'EX', True, False), (7, 3, 'EX', False, True), (14, 6, 'EX', False, True), (9, 10, 'EX', False, True), (8, 15, 'EX', False, True), (11, 21, 'EX', False, True), (1, 36, 'EX', False, True), (10, 53, 'EX', False, True), (4, 63, 'EX', False, True), (19, 74, 'EX', False, True), (16, 85, 'EX', False, True), (0, 97, 'EX', False, True), (2, 110, 'EX', False, True), (5, 124, 'EX', False, True)]}\n"
     ]
    },
    {
     "data": {
      "text/plain": [
       "True"
      ]
     },
     "execution_count": 13,
     "metadata": {},
     "output_type": "execute_result"
    }
   ],
   "source": [
    "find_locktable_with_txn(6, True)"
   ]
  },
  {
   "cell_type": "code",
   "execution_count": 9,
   "metadata": {},
   "outputs": [
    {
     "data": {
      "text/plain": [
       "{6: 0,\n",
       " 3: 0,\n",
       " 7: 3,\n",
       " 19: 74,\n",
       " 14: 6,\n",
       " 15: -1,\n",
       " 9: 10,\n",
       " 16: 85,\n",
       " 8: 15,\n",
       " 0: 97,\n",
       " 11: 21,\n",
       " 13: 0,\n",
       " 17: 54,\n",
       " 2: 110,\n",
       " 1: 36,\n",
       " 18: 64,\n",
       " 10: 53,\n",
       " 5: 140,\n",
       " 4: 63,\n",
       " 12: 0,\n",
       " 37: 0}"
      ]
     },
     "execution_count": 9,
     "metadata": {},
     "output_type": "execute_result"
    }
   ],
   "source": [
    "priority"
   ]
  },
  {
   "cell_type": "code",
   "execution_count": 14,
   "metadata": {},
   "outputs": [
    {
     "data": {
      "text/plain": [
       "{6: 'commited',\n",
       " 3: 'running',\n",
       " 7: 'running',\n",
       " 19: 'running',\n",
       " 14: 'running',\n",
       " 15: 'running',\n",
       " 9: 'running',\n",
       " 16: 'running',\n",
       " 8: 'running',\n",
       " 0: 'running',\n",
       " 11: 'running',\n",
       " 13: 'running',\n",
       " 17: 'aborted',\n",
       " 2: 'running',\n",
       " 1: 'running',\n",
       " 18: 'aborted',\n",
       " 10: 'running',\n",
       " 5: 'abort',\n",
       " 4: 'running',\n",
       " 12: 'running',\n",
       " 37: 'running'}"
      ]
     },
     "execution_count": 14,
     "metadata": {},
     "output_type": "execute_result"
    }
   ],
   "source": [
    "status"
   ]
  },
  {
   "cell_type": "code",
   "execution_count": null,
   "metadata": {},
   "outputs": [],
   "source": []
  }
 ],
 "metadata": {
  "kernelspec": {
   "display_name": "Python 3",
   "language": "python",
   "name": "python3"
  },
  "language_info": {
   "codemirror_mode": {
    "name": "ipython",
    "version": 3
   },
   "file_extension": ".py",
   "mimetype": "text/x-python",
   "name": "python",
   "nbconvert_exporter": "python",
   "pygments_lexer": "ipython3",
   "version": "3.7.3"
  }
 },
 "nbformat": 4,
 "nbformat_minor": 2
}
