{
 "cells": [
  {
   "cell_type": "code",
   "execution_count": 1,
   "metadata": {},
   "outputs": [],
   "source": [
    "import re\n",
    "import pandas as pd\n",
    "import numpy as np"
   ]
  },
  {
   "cell_type": "code",
   "execution_count": 2,
   "metadata": {},
   "outputs": [],
   "source": [
    "match_table = re.compile(r\"init table (\\S*) at 0x(\\w*)\")\n",
    "match_wound = re.compile(r\"wounded at table 0x(\\w*)\")"
   ]
  },
  {
   "cell_type": "code",
   "execution_count": 3,
   "metadata": {},
   "outputs": [],
   "source": [
    "tables = {}\n",
    "count = {}\n",
    "f = open(\"/Users/scarlet/Downloads/debug.out\")\n",
    "for line in f:\n",
    "    line = line.strip()\n",
    "    if \"init table\" in line:\n",
    "        matched = match_table.search(line)\n",
    "        name, addr = matched.groups(1)\n",
    "        tables[addr] = name\n",
    "    elif \"wounded at table\" in line:\n",
    "        matched = match_wound.search(line)\n",
    "        addr = matched.groups(1)[0]\n",
    "        name = tables[addr]\n",
    "        if name not in count:\n",
    "            count[name] = 1\n",
    "        else:\n",
    "            count[name] += 1"
   ]
  },
  {
   "cell_type": "code",
   "execution_count": 4,
   "metadata": {},
   "outputs": [
    {
     "data": {
      "text/plain": [
       "{'7f1312045540': 'WAREHOUSE',\n",
       " '7f13120455c0': 'DISTRICT',\n",
       " '7f1312045640': 'CUSTOMER',\n",
       " '7f13120456c0': 'HISTORY',\n",
       " '7f1312045740': 'NEW-ORDER',\n",
       " '7f13120457c0': 'ORDER',\n",
       " '7f1312045840': 'ORDER-LINE',\n",
       " '7f13120458c0': 'ITEM',\n",
       " '7f1312045940': 'STOCK'}"
      ]
     },
     "execution_count": 4,
     "metadata": {},
     "output_type": "execute_result"
    }
   ],
   "source": [
    "tables"
   ]
  },
  {
   "cell_type": "code",
   "execution_count": 5,
   "metadata": {},
   "outputs": [
    {
     "data": {
      "text/plain": [
       "{'DISTRICT': 15405, 'WAREHOUSE': 33556, 'STOCK': 7916, 'CUSTOMER': 5}"
      ]
     },
     "execution_count": 5,
     "metadata": {},
     "output_type": "execute_result"
    }
   ],
   "source": [
    "count"
   ]
  },
  {
   "cell_type": "code",
   "execution_count": null,
   "metadata": {},
   "outputs": [],
   "source": []
  }
 ],
 "metadata": {
  "kernelspec": {
   "display_name": "Python 3",
   "language": "python",
   "name": "python3"
  },
  "language_info": {
   "codemirror_mode": {
    "name": "ipython",
    "version": 3
   },
   "file_extension": ".py",
   "mimetype": "text/x-python",
   "name": "python",
   "nbconvert_exporter": "python",
   "pygments_lexer": "ipython3",
   "version": "3.7.3"
  }
 },
 "nbformat": 4,
 "nbformat_minor": 2
}
