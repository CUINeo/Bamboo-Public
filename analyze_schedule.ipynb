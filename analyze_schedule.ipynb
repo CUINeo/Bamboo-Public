{
 "cells": [
  {
   "cell_type": "code",
   "execution_count": 61,
   "metadata": {},
   "outputs": [],
   "source": [
    "import pandas as pd\n",
    "from tqdm import tqdm"
   ]
  },
  {
   "cell_type": "code",
   "execution_count": 62,
   "metadata": {},
   "outputs": [],
   "source": [
    "clv = True\n",
    "NUM_THREAD = 3\n",
    "STATUS = {0:\"commit\", 2:\"abort\"}\n",
    "def get_thd(txn):\n",
    "    return int(txn) % NUM_THREAD\n",
    "def get_lock(lock_idx):\n",
    "    lock_idx = int(lock_idx)\n",
    "    if lock_idx == 0:\n",
    "        return \"SH\"\n",
    "    elif lock_idx == 1:\n",
    "        return \"EX\"\n",
    "    else:\n",
    "        return \"NONE\"\n",
    "def rm_txn(row, place, txn):\n",
    "    thread = get_thd(txn)\n",
    "    members = locktable[row][place]\n",
    "    found = False\n",
    "    for i, step in enumerate(members):\n",
    "        if step[0] == txn:\n",
    "            found = True\n",
    "            break\n",
    "    if not found:\n",
    "        print(\"not found: {}\".format(line))\n",
    "        raise\n",
    "    locktable[row][place] = members[:i] + members[i+1:]\n",
    "    return thread, members[i]\n",
    "def get_schedule(start, end, thread):\n",
    "    return schedule.loc[start:end+1, thread][schedule.loc[start:end+1, thread].notnull()]\n",
    "def find_locktable_with_txn(txn):\n",
    "    for row in locktable:\n",
    "        if txn in [item[0] for place in ['owners', 'waiters', 'retired'] for item in locktable[row][place] ]:\n",
    "            print(row)\n",
    "            print(locktable[row])\n",
    "def find_locktable_with_row(row):\n",
    "    print(locktable[row])"
   ]
  },
  {
   "cell_type": "code",
   "execution_count": 84,
   "metadata": {},
   "outputs": [],
   "source": [
    "def parse(line):\n",
    "    txn = \"\"\n",
    "    tokens = line.split(\" \")\n",
    "    if \"[thread]\" in line:\n",
    "        if \"start running txn\" in line:\n",
    "            thread = int(tokens[2])\n",
    "            txn = tokens[6]\n",
    "            schedule.loc[ts, thread] = \"start txn %s\"%txn\n",
    "            if clv:\n",
    "                barriers[txn] = 0\n",
    "        elif \"finish txn\" in line:\n",
    "            txn = tokens[3]\n",
    "            thread = get_thd(txn)\n",
    "            rc = tokens[-1]\n",
    "            # \"[thread-%lu] finish txn %lu (aborted)\\n\"\n",
    "            schedule.loc[ts, thread] = \"thread finish txn %s %s\"%(txn, thread)\n",
    "            \n",
    "    elif \"[row_\" in tokens[0]:\n",
    "            #return\n",
    "            if \"add txn\" in line:\n",
    "                    #[row_ww] add txn 1 type 1 to owners of row 1449388428864366\n",
    "                    txn = tokens[3]\n",
    "                    lock = get_lock(tokens[5])\n",
    "                    row = tokens[-1]\n",
    "                    thread = get_thd(txn)\n",
    "                    if row not in locktable:\n",
    "                        locktable[row] = {}\n",
    "                        locktable[row]['owners'] = []\n",
    "                        locktable[row]['waiters'] = []\n",
    "                        if clv:\n",
    "                            locktable[row]['retired'] = []\n",
    "                    locktable[row][tokens[7]].append((txn, lock))\n",
    "                    if \"owner\" in tokens[7]:\n",
    "                        schedule.loc[ts, thread] = \"acquire %s lock %s\"%(lock, row)\n",
    "                    elif \"waiter\" in tokens[7]:\n",
    "                        schedule.loc[ts, thread] = \"wait %s lock %s\"%(lock, row)\n",
    "                    elif \"retired\" in tokens[7]:\n",
    "                        schedule.loc[ts, thread] = \"retire %s lock %s\"%(lock, row)\n",
    "            elif \"rm another txn\" in line:\n",
    "                    # [row_clv] txn %lu rm another txn %lu from owners of row %lu\n",
    "                    wounder = tokens[2]\n",
    "                    txn = tokens[6]\n",
    "                    row = tokens[-1]\n",
    "                    place = tokens[8]\n",
    "                    thread, _ = rm_txn(row, place, txn)\n",
    "                    if \"owner\" in place:\n",
    "                        schedule.loc[ts, thread] = \"removed lock %s from owners by %s\"%(row, wounder)\n",
    "                    elif \"retired\" in place:\n",
    "                        schedule.loc[ts, thread] = \"removed lock %s from retired by %s\"%(row, wounder)\n",
    "            elif \"rm txn\" in line:\n",
    "                    txn = tokens[3]\n",
    "                    row = tokens[-1]\n",
    "                    thread, _ = rm_txn(row, tokens[5], txn)\n",
    "                    if \"owner\" in tokens[5]:\n",
    "                        schedule.loc[ts, thread] = \"remove lock %s from owners\"%row\n",
    "                    elif \"waiter\" in tokens[5]:\n",
    "                        schedule.loc[ts, thread] = \"remove lock %s from waiters\"%row\n",
    "                    elif \"retired\" in tokens[5]:\n",
    "                        schedule.loc[ts, thread] = \"release lock %s from retired\"%row\n",
    "            elif \"from waiter to owner\" in line or \"from waiters to owners\" in line:\n",
    "                    # [row_ww] bring 0 from waiter to owner of row 1454103086539417\n",
    "                    txn = tokens[2]\n",
    "                    row = tokens[-1]\n",
    "                    thread = get_thd(txn)\n",
    "                    found = False\n",
    "                    thread, entry = rm_txn(row, \"waiters\", txn)\n",
    "                    locktable[row][\"owners\"].append(entry)\n",
    "                    schedule.loc[ts, thread] = \"acquire lock %s\"%row\n",
    "            elif \"from owners to retired\" in line:\n",
    "                    # [row_clv] move txn 0 from owners to retired type 0 of row 1459774078579136\n",
    "                    txn = tokens[3]\n",
    "                    row = tokens[-1]\n",
    "                    thread = get_thd(txn)\n",
    "                    found = False\n",
    "                    lock = get_lock(tokens[-4])\n",
    "                    locktable[row][\"retired\"].append((txn, lock))\n",
    "                    schedule.loc[ts, thread] = \"retire lock %s\"%row\n",
    "            elif \"abort txn\" in line:\n",
    "                # [row_ww] txn 8 abort txn 6 on row 10\n",
    "                wound = tokens[2]\n",
    "                abort = tokens[-4]\n",
    "                row = tokens[-1]\n",
    "                txn = wound\n",
    "                schedule.loc[ts, get_thd(wound)] = \"wound %s on %s\"%(abort, row)\n",
    "                schedule.loc[ts, get_thd(abort)] = \"%s wounded by %s\"%(abort,wound)\n",
    "    elif \"[txn]\" in tokens[0]:\n",
    "        if \"set txn\" in line and \"to abort\" in line:\n",
    "            wounder = tokens[1]\n",
    "            txn = tokens[4]\n",
    "            schedule.loc[ts, get_thd(txn)] = \"txn %s set abort by %s\"% (txn, wounder)\n",
    "            schedule.loc[ts, get_thd(wounder)] = \"wound txn %s\"%txn\n",
    "        elif \"is set to\" in line:\n",
    "            # [txn] txn %lu is set to commited\n",
    "            txn = tokens[2]\n",
    "            status = tokens[-1]\n",
    "            thread = get_thd(txn)\n",
    "            schedule.loc[ts, thread] = \"txn %s set %s\"%(txn, status) \n",
    "            if status != \"commited\":\n",
    "                barriers[txn] = -1\n",
    "        elif \"barrier\" in line:\n",
    "            # \"[txn] increment barrier for txn %lu\\n\"\n",
    "            txn = tokens[-1]\n",
    "            thread = get_thd(txn)\n",
    "            if tokens[1] == \"increment\":\n",
    "                barriers[txn] += 1\n",
    "            elif tokens[1] == \"decrement\":\n",
    "                barriers[txn] -= 1\n",
    "            schedule.loc[ts, thread] = \"txn %s %s barrier, now should be %d\"%(txn, tokens[1], barriers[txn])\n",
    "        elif \"# bariers\" in line:\n",
    "            # [txn] # bariers of txn 1 = 0\n",
    "            txn = tokens[-3]\n",
    "            thread = get_thd(txn)\n",
    "            schedule.loc[ts, thread] = \"pre-commit: txn %s's barriers = %d\"%(txn, int(tokens[-1]))\n",
    "            assert(int(tokens[-1]) == barriers[txn])\n",
    "#     if txn in [\"9\"] or \"txn 9\" in line:\n",
    "#         print(\"[{}]: {}\".format(ts, line))"
   ]
  },
  {
   "cell_type": "code",
   "execution_count": 85,
   "metadata": {},
   "outputs": [],
   "source": [
    "output = open('debug.out')"
   ]
  },
  {
   "cell_type": "code",
   "execution_count": 86,
   "metadata": {},
   "outputs": [],
   "source": [
    "locktable = {} # row_id: { owners: {}, waiters: {}, (opt) retired: {}}\n",
    "barriers = {}\n",
    "schedule = pd.DataFrame()\n",
    "ts = 0"
   ]
  },
  {
   "cell_type": "code",
   "execution_count": 87,
   "metadata": {},
   "outputs": [
    {
     "name": "stderr",
     "output_type": "stream",
     "text": [
      "10620it [00:10, 1029.78it/s]\n"
     ]
    }
   ],
   "source": [
    "for line in tqdm(output):\n",
    "    try:\n",
    "        parse(line.strip())\n",
    "        ts += 1\n",
    "    except:\n",
    "        print(line)\n",
    "        raise"
   ]
  },
  {
   "cell_type": "code",
   "execution_count": 88,
   "metadata": {},
   "outputs": [
    {
     "name": "stdout",
     "output_type": "stream",
     "text": [
      "thread 0: removed lock 536900749115690 from retired by 217\n",
      "thread 2: remove lock 536900824811266 from owners\n",
      "thread 1: retire lock 536901130457102\n"
     ]
    }
   ],
   "source": [
    "import numpy as np\n",
    "for i in schedule:\n",
    "    print(\"thread {}: {}\".format(i, schedule[i][schedule[i].notnull()].values[-1]))"
   ]
  },
  {
   "cell_type": "code",
   "execution_count": 91,
   "metadata": {},
   "outputs": [
    {
     "name": "stdout",
     "output_type": "stream",
     "text": [
      "536900749115690\n",
      "{'owners': [], 'waiters': [], 'retired': [('59', 'EX'), ('256', 'EX')]}\n",
      "536900749123440\n",
      "{'owners': [], 'waiters': [], 'retired': [('59', 'SH')]}\n",
      "536901320769112\n",
      "{'owners': [], 'waiters': [], 'retired': [('59', 'EX')]}\n",
      "536900743436293\n",
      "{'owners': [], 'waiters': [], 'retired': [('59', 'EX')]}\n",
      "536901135006095\n",
      "{'owners': [], 'waiters': [], 'retired': [('59', 'SH')]}\n",
      "536900743459196\n",
      "{'owners': [], 'waiters': [], 'retired': [('59', 'EX')]}\n",
      "536901135100100\n",
      "{'owners': [], 'waiters': [], 'retired': [('59', 'SH')]}\n",
      "536900724123117\n",
      "{'owners': [], 'waiters': [], 'retired': [('59', 'EX')]}\n",
      "536901067982348\n",
      "{'owners': [], 'waiters': [], 'retired': [('59', 'SH')]}\n",
      "536900680504323\n",
      "{'owners': [], 'waiters': [], 'retired': [('59', 'EX')]}\n",
      "536900911435077\n",
      "{'owners': [], 'waiters': [], 'retired': [('59', 'SH')]}\n",
      "536900656160397\n",
      "{'owners': [], 'waiters': [], 'retired': [('256', 'EX'), ('59', 'EX')]}\n",
      "536900652796333\n",
      "{'owners': [], 'waiters': [], 'retired': [('59', 'EX')]}\n",
      "536900811944619\n",
      "{'owners': [], 'waiters': [], 'retired': [('59', 'SH')]}\n",
      "536900739616830\n",
      "{'owners': [], 'waiters': [], 'retired': [('59', 'EX')]}\n",
      "536901121085255\n",
      "{'owners': [], 'waiters': [], 'retired': [('59', 'SH')]}\n",
      "536900716636619\n",
      "{'owners': [], 'waiters': [], 'retired': [('59', 'EX')]}\n",
      "536901039990756\n",
      "{'owners': [], 'waiters': [], 'retired': [('59', 'SH')]}\n",
      "536900744404825\n",
      "{'owners': [], 'waiters': [], 'retired': [('59', 'EX')]}\n",
      "536901138736294\n",
      "{'owners': [], 'waiters': [], 'retired': [('59', 'SH')]}\n",
      "536900705310001\n",
      "{'owners': [], 'waiters': [], 'retired': [('59', 'EX')]}\n",
      "536901000495686\n",
      "{'owners': [], 'waiters': [], 'retired': [('59', 'SH')]}\n",
      "536900651730692\n",
      "{'owners': [], 'waiters': [], 'retired': [('59', 'EX')]}\n",
      "536900807923315\n",
      "{'owners': [], 'waiters': [], 'retired': [('59', 'SH')]}\n",
      "536900744472628\n",
      "{'owners': [], 'waiters': [], 'retired': [('59', 'EX')]}\n",
      "536901138991731\n",
      "{'owners': [], 'waiters': [], 'retired': [('59', 'SH')]}\n"
     ]
    }
   ],
   "source": [
    "find_locktable_with_txn('59')"
   ]
  },
  {
   "cell_type": "code",
   "execution_count": null,
   "metadata": {},
   "outputs": [],
   "source": [
    "# get_schedule(299, 349, [1,3])"
   ]
  },
  {
   "cell_type": "code",
   "execution_count": 35,
   "metadata": {},
   "outputs": [],
   "source": [
    "schedule.to_csv('sample_schedule.csv')"
   ]
  },
  {
   "cell_type": "code",
   "execution_count": 89,
   "metadata": {},
   "outputs": [
    {
     "data": {
      "text/plain": [
       "12                                           start txn 0\n",
       "22                          wait SH lock 536900749115690\n",
       "24                          acquire lock 536900749115690\n",
       "26               remove lock 536900749115690 from owners\n",
       "27                           retire lock 536900749115690\n",
       "                              ...                       \n",
       "9250                         retire lock 536900749124528\n",
       "9296          txn 138 decrement barrier, now should be 0\n",
       "9318                            txn 138 set abort by 217\n",
       "9321                                  138 wounded by 217\n",
       "9322    removed lock 536900749115690 from retired by 217\n",
       "Name: 0, Length: 2548, dtype: object"
      ]
     },
     "execution_count": 89,
     "metadata": {},
     "output_type": "execute_result"
    }
   ],
   "source": [
    "schedule[0][schedule[0].notnull()]"
   ]
  },
  {
   "cell_type": "code",
   "execution_count": 90,
   "metadata": {
    "scrolled": true
   },
   "outputs": [
    {
     "name": "stdout",
     "output_type": "stream",
     "text": [
      "59 = 1 at thread 2\n",
      "256 = 1 at thread 1\n"
     ]
    }
   ],
   "source": [
    "for b in barriers:\n",
    "    if barriers[b] > 0:\n",
    "        print(\"{} = {} at thread {}\".format(b, barriers[b], int(b)%NUM_THREAD))"
   ]
  },
  {
   "cell_type": "code",
   "execution_count": null,
   "metadata": {},
   "outputs": [],
   "source": []
  }
 ],
 "metadata": {
  "kernelspec": {
   "display_name": "Python 3",
   "language": "python",
   "name": "python3"
  },
  "language_info": {
   "codemirror_mode": {
    "name": "ipython",
    "version": 3
   },
   "file_extension": ".py",
   "mimetype": "text/x-python",
   "name": "python",
   "nbconvert_exporter": "python",
   "pygments_lexer": "ipython3",
   "version": "3.6.9"
  }
 },
 "nbformat": 4,
 "nbformat_minor": 2
}
