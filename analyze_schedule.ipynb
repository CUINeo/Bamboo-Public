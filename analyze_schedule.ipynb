{
 "cells": [
  {
   "cell_type": "code",
   "execution_count": 51,
   "metadata": {},
   "outputs": [],
   "source": [
    "import pandas as pd\n",
    "from tqdm import tqdm"
   ]
  },
  {
   "cell_type": "code",
   "execution_count": 52,
   "metadata": {},
   "outputs": [],
   "source": [
    "clv = True\n",
    "NUM_THREAD = 3\n",
    "STATUS = {0:\"commit\", 2:\"abort\"}\n",
    "def get_thd(txn):\n",
    "    return int(txn) % NUM_THREAD\n",
    "def get_lock(lock_idx):\n",
    "    lock_idx = int(lock_idx)\n",
    "    if lock_idx == 0:\n",
    "        return \"SH\"\n",
    "    elif lock_idx == 1:\n",
    "        return \"EX\"\n",
    "    else:\n",
    "        return \"NONE\"\n",
    "def rm_txn(row, place, txn):\n",
    "    thread = get_thd(txn)\n",
    "    members = locktable[row][place]\n",
    "    found = False\n",
    "    for i, step in enumerate(members):\n",
    "        if step[0] == txn:\n",
    "            found = True\n",
    "            break\n",
    "    if not found:\n",
    "        print(\"not found: {}\".format(line))\n",
    "        raise\n",
    "    locktable[row][place] = members[:i] + members[i+1:]\n",
    "    return thread, members[i]\n",
    "def get_schedule(start, end, thread):\n",
    "    return schedule.loc[start:end+1, thread][schedule.loc[start:end+1, thread].notnull()]\n",
    "def find_locktable_with_txn(txn):\n",
    "    for row in locktable:\n",
    "        if txn in [item[0] for place in ['owners', 'waiters', 'retired'] for item in locktable[row][place] ]:\n",
    "            print(row)\n",
    "            print(locktable[row])\n",
    "def find_locktable_with_row(row):\n",
    "    print(locktable[row])"
   ]
  },
  {
   "cell_type": "code",
   "execution_count": 53,
   "metadata": {},
   "outputs": [],
   "source": [
    "def parse(line):\n",
    "    txn = \"\"\n",
    "    tokens = line.split(\" \")\n",
    "    if \"[thread]\" in line:\n",
    "        if \"start running txn\" in line:\n",
    "            thread = int(tokens[2])\n",
    "            txn = tokens[6]\n",
    "            schedule.loc[ts, thread] = \"start txn %s\"%txn\n",
    "            if clv:\n",
    "                barriers[txn] = 0\n",
    "        elif \"finish txn\" in line:\n",
    "            txn = tokens[3]\n",
    "            thread = get_thd(txn)\n",
    "            rc = tokens[-1]\n",
    "            # \"[thread-%lu] finish txn %lu (aborted)\\n\"\n",
    "            schedule.loc[ts, thread] = \"thread finish txn %s %s\"%(txn, thread)\n",
    "    elif \"[row_\" in tokens[0]:\n",
    "            #return\n",
    "            if \"add txn\" in line:\n",
    "                    #[row_ww] add txn 1 type 1 to owners of row 1449388428864366\n",
    "                    txn = tokens[3]\n",
    "                    lock = get_lock(tokens[5])\n",
    "                    row = tokens[-1]\n",
    "                    thread = get_thd(txn)\n",
    "                    if row not in locktable:\n",
    "                        locktable[row] = {}\n",
    "                        locktable[row]['owners'] = []\n",
    "                        locktable[row]['waiters'] = []\n",
    "                        if clv:\n",
    "                            locktable[row]['retired'] = []\n",
    "                    locktable[row][tokens[7]].append((txn, lock))\n",
    "                    if \"owner\" in tokens[7]:\n",
    "                        schedule.loc[ts, thread] = \"acquire %s lock %s\"%(lock, row)\n",
    "                    elif \"waiter\" in tokens[7]:\n",
    "                        schedule.loc[ts, thread] = \"wait %s lock %s\"%(lock, row)\n",
    "                    elif \"retired\" in tokens[7]:\n",
    "                        schedule.loc[ts, thread] = \"retire %s lock %s\"%(lock, row)\n",
    "            elif \"rm another txn\" in line:\n",
    "                    # [row_clv] txn %lu rm another txn %lu from owners of row %lu\n",
    "                    wounder = tokens[2]\n",
    "                    txn = tokens[6]\n",
    "                    row = tokens[-1]\n",
    "                    place = tokens[8]\n",
    "                    thread, _ = rm_txn(row, place, txn)\n",
    "                    if \"owner\" in place:\n",
    "                        schedule.loc[ts, thread] = \"removed lock %s from owners by %s\"%(row, wounder)\n",
    "                    elif \"retired\" in place:\n",
    "                        schedule.loc[ts, thread] = \"removed lock %s from retired by %s\"%(row, wounder)\n",
    "            elif \"rm txn\" in line:\n",
    "                    txn = tokens[3]\n",
    "                    row = tokens[-1]\n",
    "                    thread, _ = rm_txn(row, tokens[5], txn)\n",
    "                    if \"owner\" in tokens[5]:\n",
    "                        schedule.loc[ts, thread] = \"remove lock %s from owners\"%row\n",
    "                    elif \"waiter\" in tokens[5]:\n",
    "                        schedule.loc[ts, thread] = \"remove lock %s from waiters\"%row\n",
    "                    elif \"retired\" in tokens[5]:\n",
    "                        schedule.loc[ts, thread] = \"release lock %s from retired\"%row\n",
    "            elif \"from waiter to owner\" in line or \"from waiters to owners\" in line:\n",
    "                    # [row_ww] bring 0 from waiter to owner of row 1454103086539417\n",
    "                    txn = tokens[2]\n",
    "                    row = tokens[-1]\n",
    "                    thread = get_thd(txn)\n",
    "                    found = False\n",
    "                    thread, entry = rm_txn(row, \"waiters\", txn)\n",
    "                    locktable[row][\"owners\"].append(entry)\n",
    "                    schedule.loc[ts, thread] = \"acquire lock %s\"%row\n",
    "            elif \"from owners to retired\" in line:\n",
    "                    # [row_clv] move txn 0 from owners to retired type 0 of row 1459774078579136\n",
    "                    txn = tokens[3]\n",
    "                    row = tokens[-1]\n",
    "                    thread = get_thd(txn)\n",
    "                    found = False\n",
    "                    lock = get_lock(tokens[-4])\n",
    "                    locktable[row][\"retired\"].append((txn, lock))\n",
    "                    schedule.loc[ts, thread] = \"retire lock %s\"%row\n",
    "            elif \"abort txn\" in line:\n",
    "                # [row_ww] txn 8 abort txn 6 on row 10\n",
    "                wound = tokens[2]\n",
    "                abort = tokens[-4]\n",
    "                row = tokens[-1]\n",
    "                txn = wound\n",
    "                schedule.loc[ts, get_thd(wound)] = \"wound %s on %s\"%(abort, row)\n",
    "                schedule.loc[ts, get_thd(abort)] = \"%s wounded by %s\"%(abort,wound)\n",
    "    elif \"[txn]\" in tokens[0]:\n",
    "        if \"set txn\" in line and \"to abort\" in line:\n",
    "            wounder = tokens[1]\n",
    "            txn = tokens[4]\n",
    "            schedule.loc[ts, get_thd(txn)] = \"txn %s set abort by %s\"% (txn, wounder)\n",
    "            schedule.loc[ts, get_thd(wounder)] = \"wound txn %s\"%txn\n",
    "        elif \"is set to\" in line:\n",
    "            # [txn] txn %lu is set to commited\n",
    "            txn = tokens[2]\n",
    "            status = tokens[-1]\n",
    "            thread = get_thd(txn)\n",
    "            schedule.loc[ts, thread] = \"txn %s set %s\"%(txn, status) \n",
    "        elif \"barrier\" in line:\n",
    "            # \"[txn] increment barrier for txn %lu\\n\"\n",
    "            txn = tokens[-1]\n",
    "            thread = get_thd(txn)\n",
    "            if tokens[1] == \"increment\":\n",
    "                barriers[txn] += 1\n",
    "            elif tokens[1] == \"decrement\":\n",
    "                barriers[txn] -= 1\n",
    "            schedule.loc[ts, thread] = \"txn %s %s barrier, now should be %d\"%(txn, tokens[1], barriers[txn])\n",
    "        elif \"# bariers\" in line:\n",
    "            # [txn] # bariers of txn 1 = 0\n",
    "            txn = tokens[-3]\n",
    "            thread = get_thd(txn)\n",
    "            schedule.loc[ts, thread] = \"pre-commit: txn %s's barriers = %d\"%(txn, int(tokens[-1]))\n",
    "            assert(int(tokens[-1]) == barriers[txn])\n",
    "#     if txn in [\"9\"] or \"txn 9\" in line:\n",
    "#         print(\"[{}]: {}\".format(ts, line))"
   ]
  },
  {
   "cell_type": "code",
   "execution_count": 54,
   "metadata": {},
   "outputs": [],
   "source": [
    "output = open('debug.out')"
   ]
  },
  {
   "cell_type": "code",
   "execution_count": 55,
   "metadata": {},
   "outputs": [],
   "source": [
    "locktable = {} # row_id: { owners: {}, waiters: {}, (opt) retired: {}}\n",
    "barriers = {}\n",
    "schedule = pd.DataFrame()\n",
    "ts = 0"
   ]
  },
  {
   "cell_type": "code",
   "execution_count": 56,
   "metadata": {},
   "outputs": [
    {
     "name": "stderr",
     "output_type": "stream",
     "text": [
      "13776it [00:14, 972.81it/s]\n"
     ]
    }
   ],
   "source": [
    "for line in tqdm(output):\n",
    "    try:\n",
    "        parse(line.strip())\n",
    "        ts += 1\n",
    "    except:\n",
    "        print(line)\n",
    "        raise"
   ]
  },
  {
   "cell_type": "code",
   "execution_count": 57,
   "metadata": {},
   "outputs": [
    {
     "name": "stdout",
     "output_type": "stream",
     "text": [
      "thread 0: pre-commit: txn 243's barriers = 1\n",
      "thread 1: wait SH lock 536633155684387\n",
      "thread 2: pre-commit: txn 104's barriers = 1\n"
     ]
    }
   ],
   "source": [
    "import numpy as np\n",
    "for i in schedule:\n",
    "    print(\"thread {}: {}\".format(i, schedule[i][schedule[i].notnull()].values[-1]))"
   ]
  },
  {
   "cell_type": "code",
   "execution_count": 60,
   "metadata": {},
   "outputs": [
    {
     "name": "stdout",
     "output_type": "stream",
     "text": [
      "536632912808479\n",
      "{'owners': [], 'waiters': [], 'retired': [('178', 'EX'), ('104', 'EX'), ('243', 'EX')]}\n",
      "536632912813729\n",
      "{'owners': [], 'waiters': [], 'retired': [('243', 'SH'), ('178', 'SH')]}\n",
      "536632835492416\n",
      "{'owners': [], 'waiters': [], 'retired': [('178', 'EX')]}\n",
      "536633042625080\n",
      "{'owners': [], 'waiters': [], 'retired': [('178', 'SH')]}\n",
      "536633405296771\n",
      "{'owners': [], 'waiters': [], 'retired': [('178', 'EX')]}\n",
      "536632843634548\n",
      "{'owners': [], 'waiters': [], 'retired': [('178', 'EX')]}\n",
      "536633072892752\n",
      "{'owners': [], 'waiters': [], 'retired': [('178', 'SH')]}\n",
      "536632888526021\n",
      "{'owners': [], 'waiters': [], 'retired': [('178', 'EX')]}\n",
      "536633234336691\n",
      "{'owners': [], 'waiters': [], 'retired': [('178', 'SH')]}\n",
      "536632873498673\n",
      "{'owners': [], 'waiters': [], 'retired': [('178', 'EX')]}\n",
      "536633180328492\n",
      "{'owners': [], 'waiters': [], 'retired': [('178', 'SH')]}\n",
      "536632875008370\n",
      "{'owners': [], 'waiters': [], 'retired': [('178', 'EX')]}\n",
      "536633186107715\n",
      "{'owners': [], 'waiters': [], 'retired': [('178', 'SH')]}\n",
      "536632866188419\n",
      "{'owners': [], 'waiters': [], 'retired': [('178', 'EX')]}\n",
      "536633153577469\n",
      "{'owners': [], 'waiters': [], 'retired': [('178', 'SH')]}\n",
      "536632846480674\n",
      "{'owners': [], 'waiters': [], 'retired': [('178', 'EX')]}\n",
      "536633083225142\n",
      "{'owners': [], 'waiters': [], 'retired': [('178', 'SH')]}\n",
      "536632866735506\n",
      "{'owners': [], 'waiters': [], 'retired': [('178', 'EX')]}\n",
      "536633155684387\n",
      "{'owners': [], 'waiters': [('178', 'SH')], 'retired': []}\n"
     ]
    }
   ],
   "source": [
    "find_locktable_with_txn('178')"
   ]
  },
  {
   "cell_type": "code",
   "execution_count": null,
   "metadata": {},
   "outputs": [],
   "source": [
    "# get_schedule(299, 349, [1,3])"
   ]
  },
  {
   "cell_type": "code",
   "execution_count": 35,
   "metadata": {},
   "outputs": [],
   "source": [
    "schedule.to_csv('sample_schedule.csv')"
   ]
  },
  {
   "cell_type": "code",
   "execution_count": null,
   "metadata": {},
   "outputs": [],
   "source": []
  },
  {
   "cell_type": "code",
   "execution_count": null,
   "metadata": {},
   "outputs": [],
   "source": []
  }
 ],
 "metadata": {
  "kernelspec": {
   "display_name": "Python 3",
   "language": "python",
   "name": "python3"
  },
  "language_info": {
   "codemirror_mode": {
    "name": "ipython",
    "version": 3
   },
   "file_extension": ".py",
   "mimetype": "text/x-python",
   "name": "python",
   "nbconvert_exporter": "python",
   "pygments_lexer": "ipython3",
   "version": "3.6.9"
  }
 },
 "nbformat": 4,
 "nbformat_minor": 2
}
